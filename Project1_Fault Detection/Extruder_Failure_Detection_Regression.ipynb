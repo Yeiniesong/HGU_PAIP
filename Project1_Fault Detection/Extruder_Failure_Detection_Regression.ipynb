{
  "nbformat": 4,
  "nbformat_minor": 0,
  "metadata": {
    "colab": {
      "name": "defect_Code_일요일 오후 7시.ipynb의 사본",
      "provenance": [],
      "collapsed_sections": []
    },
    "kernelspec": {
      "display_name": "Python 3",
      "language": "python",
      "name": "python3"
    },
    "language_info": {
      "codemirror_mode": {
        "name": "ipython",
        "version": 3
      },
      "file_extension": ".py",
      "mimetype": "text/x-python",
      "name": "python",
      "nbconvert_exporter": "python",
      "pygments_lexer": "ipython3",
      "version": "3.7.6"
    }
  },
  "cells": [
    {
      "cell_type": "code",
      "metadata": {
        "colab": {
          "base_uri": "https://localhost:8080/"
        },
        "id": "gp3Odk1XHsZa",
        "outputId": "8585ae34-a826-464d-bd9b-6fe946385886"
      },
      "source": [
        "import numpy as np\n",
        "import pandas as pd\n",
        "import matplotlib.pyplot as plt\n",
        "from sklearn.preprocessing import StandardScaler, MinMaxScaler\n",
        "from sklearn.model_selection import train_test_split\n",
        "\n",
        "import tensorflow as tf\n",
        "import keras\n",
        "from keras.models import Sequential\n",
        "from keras.layers import Dense, LSTM, Flatten, TimeDistributed, Dropout\n",
        "from keras import optimizers\n",
        "from sklearn.metrics import mean_squared_error\n",
        "\n",
        "from google.colab import drive\n",
        "drive.mount('/content/drive')"
      ],
      "execution_count": null,
      "outputs": [
        {
          "output_type": "stream",
          "text": [
            "Drive already mounted at /content/drive; to attempt to forcibly remount, call drive.mount(\"/content/drive\", force_remount=True).\n"
          ],
          "name": "stdout"
        }
      ]
    },
    {
      "cell_type": "code",
      "metadata": {
        "colab": {
          "base_uri": "https://localhost:8080/"
        },
        "id": "ZoS8lGbLHsZd",
        "outputId": "5dbfe054-80ae-4d20-d75e-f2497950a2b2"
      },
      "source": [
        "tf.random.set_seed(42)\n",
        "\n",
        "file_name = '/content/drive/My Drive/Colab Notebooks/extrusion.csv'\n",
        "\n",
        "df = pd.read_csv(file_name)\n",
        "df.info()\n",
        "\n",
        "columns = df.columns.tolist()\n",
        "print(columns)\n",
        "\n",
        "\n",
        "print(df.shape)\n",
        "print(np.shape(columns))"
      ],
      "execution_count": null,
      "outputs": [
        {
          "output_type": "stream",
          "text": [
            "<class 'pandas.core.frame.DataFrame'>\n",
            "RangeIndex: 226536 entries, 0 to 226535\n",
            "Columns: 470 entries, Datum to ST114_VARWdTensVis\n",
            "dtypes: float64(469), object(1)\n",
            "memory usage: 812.3+ MB\n",
            "['Datum', 'ST0_VARActAuftrag', 'ST110_VARExtr_0_HeizungZone_3_Regler_Y', 'ST110_VARExtr_0_HeizungZone_3_SollTemp', 'ST110_VARExtr_0_HeizungZone_4_Konfig', 'ST110_VARExtr_0_HeizungZone_4_Regler_X', 'ST110_VARExtr_0_HeizungZone_4_Regler_Y', 'ST110_VARExtr_0_HeizungZone_4_SollTemp', 'ST110_VARExtr_0_HeizungZone_5_Konfig', 'ST110_VARExtr_0_HeizungZone_5_Regler_X', 'ST110_VARExtr_0_HeizungZone_5_Regler_Y', 'ST110_VARExtr_0_HeizungZone_5_SollTemp', 'ST110_VARExtr_0_HeizungZone_6_Konfig', 'ST110_VARExtr_0_HeizungZone_6_Regler_X', 'ST110_VARExtr_0_HeizungZone_6_Regler_Y', 'ST110_VARExtr_0_HeizungZone_6_SollTemp', 'ST110_VARExtr_0_HeizungZone_7_Konfig', 'ST110_VARExtr_0_HeizungZone_7_Regler_X', 'ST110_VARExtr_0_HeizungZone_7_Regler_Y', 'ST110_VARExtr_0_HeizungZone_7_SollTemp', 'ST110_VARExtr_0_HeizungZone_8_Konfig', 'ST110_VARExtr_0_HeizungZone_8_Regler_X', 'ST110_VARExtr_0_HeizungZone_8_Regler_Y', 'ST110_VARExtr_0_HeizungZone_8_SollTemp', 'ST110_VARExtr_0_HeizungZone_9_Konfig', 'ST110_VARExtr_0_HeizungZone_9_Regler_X', 'ST110_VARExtr_0_HeizungZone_9_Regler_Y', 'ST110_VARExtr_0_HeizungZone_9_SollTemp', 'ST110_VARExtr_1_druck_1_IstP', 'ST110_VARExtr_1_HeizungZone_1_ActEffectPower', 'ST110_VARExtr_1_HeizungZone_1_Konfig', 'ST110_VARExtr_1_HeizungZone_1_Regler_X', 'ST110_VARExtr_1_HeizungZone_1_Regler_Y', 'ST110_VARExtr_1_HeizungZone_1_SollTemp', 'ST110_VARExtr_1_HeizungZone_2_ActEffectPower', 'ST110_VARExtr_1_HeizungZone_2_Konfig', 'ST110_VARExtr_1_HeizungZone_2_Regler_X', 'ST110_VARExtr_1_HeizungZone_2_Regler_Y', 'ST110_VARExtr_1_HeizungZone_2_SollTemp', 'ST110_VARExtr_1_HeizungZone_3_ActEffectPower', 'ST110_VARExtr_1_HeizungZone_3_Konfig', 'ST110_VARExtr_1_HeizungZone_3_Regler_X', 'ST110_VARExtr_1_HeizungZone_3_Regler_Y', 'ST110_VARExtr_1_HeizungZone_3_SollTemp', 'ST110_VARExtr_1_HeizungZone_4_ActEffectPower', 'ST110_VARExtr_1_HeizungZone_4_Konfig', 'ST110_VARExtr_1_HeizungZone_4_Regler_X', 'ST110_VARExtr_1_HeizungZone_4_Regler_Y', 'ST110_VARExtr_1_HeizungZone_4_SollTemp', 'ST110_VARExtr_1_HeizungZone_5_ActEffectPower', 'ST110_VARExtr_1_HeizungZone_5_Konfig', 'ST110_VARExtr_1_HeizungZone_5_Regler_X', 'ST110_VARExtr_1_HeizungZone_5_Regler_Y', 'ST110_VARExtr_1_HeizungZone_5_SollTemp', 'ST110_VARExtr_1_HeizungZone_6_ActEffectPower', 'ST110_VARExtr_1_HeizungZone_6_Konfig', 'ST110_VARExtr_1_HeizungZone_6_Regler_X', 'ST110_VARExtr_1_HeizungZone_6_Regler_Y', 'ST110_VARExtr_1_HeizungZone_6_SollTemp', 'ST110_VARExtr_1_HeizungZone_7_ActEffectPower', 'ST110_VARExtr_1_HeizungZone_7_Konfig', 'ST110_VARExtr_1_HeizungZone_7_Regler_X', 'ST110_VARExtr_1_HeizungZone_7_Regler_Y', 'ST110_VARExtr_1_HeizungZone_7_SollTemp', 'ST110_VARExtr_1_HeizungZone_8_ActEffectPower', 'ST110_VARExtr_1_HeizungZone_8_Konfig', 'ST110_VARExtr_1_HeizungZone_8_Regler_X', 'ST110_VARExtr_1_HeizungZone_8_Regler_Y', 'ST110_VARExtr_1_HeizungZone_8_SollTemp', 'ST110_VARExtr_1_Massetemperatur', 'ST110_VARExtr_2_druck_1_IstP', 'ST110_VARExtr_2_HeizungZone_1_ActEffectPower', 'ST110_VARExtr_2_HeizungZone_1_Konfig', 'ST110_VARExtr_2_HeizungZone_1_Regler_X', 'ST110_VARExtr_2_HeizungZone_1_Regler_Y', 'ST110_VARExtr_2_HeizungZone_1_SollTemp', 'ST110_VARExtr_2_HeizungZone_2_ActEffectPower', 'ST110_VARExtr_2_HeizungZone_2_Konfig', 'ST110_VARExtr_2_HeizungZone_2_Regler_X', 'ST110_VARExtr_2_HeizungZone_2_Regler_Y', 'ST110_VARExtr_2_HeizungZone_2_SollTemp', 'ST110_VARExtr_2_HeizungZone_3_ActEffectPower', 'ST110_VARExtr_2_HeizungZone_3_Konfig', 'ST110_VARExtr_2_HeizungZone_3_Regler_X', 'ST110_VARExtr_2_HeizungZone_3_Regler_Y', 'ST110_VARExtr_2_HeizungZone_3_SollTemp', 'ST110_VARExtr_2_HeizungZone_4_ActEffectPower', 'ST110_VARExtr_2_HeizungZone_4_Konfig', 'ST110_VARExtr_2_HeizungZone_4_Regler_X', 'ST110_VARExtr_2_HeizungZone_4_Regler_Y', 'ST110_VARExtr_2_HeizungZone_4_SollTemp', 'ST110_VARExtr_2_HeizungZone_5_ActEffectPower', 'ST110_VARExtr_2_HeizungZone_5_Konfig', 'ST110_VARExtr_2_HeizungZone_5_Regler_X', 'ST110_VARExtr_2_HeizungZone_5_Regler_Y', 'ST110_VARExtr_2_HeizungZone_5_SollTemp', 'ST110_VARExtr_2_HeizungZone_6_ActEffectPower', 'ST110_VARExtr_2_HeizungZone_6_Konfig', 'ST110_VARExtr_2_HeizungZone_6_Regler_X', 'ST110_VARExtr_2_HeizungZone_6_Regler_Y', 'ST110_VARExtr_2_HeizungZone_6_SollTemp', 'ST110_VARExtr_2_HeizungZone_7_ActEffectPower', 'ST110_VARExtr_2_HeizungZone_7_Konfig', 'ST110_VARExtr_2_HeizungZone_7_Regler_X', 'ST110_VARExtr_2_HeizungZone_7_Regler_Y', 'ST110_VARExtr_2_HeizungZone_7_SollTemp', 'ST110_VARExtr_2_HeizungZone_8_ActEffectPower', 'ST110_VARExtr_2_HeizungZone_8_Konfig', 'ST110_VARExtr_2_HeizungZone_8_Regler_X', 'ST110_VARExtr_2_HeizungZone_8_Regler_Y', 'ST110_VARExtr_2_HeizungZone_8_SollTemp', 'ST110_VARExtr_2_Massetemperatur', 'ST110_VARExtr_3_druck_1_IstP', 'ST110_VARExtr_3_HeizungZone_1_ActEffectPower', 'ST110_VARExtr_3_HeizungZone_1_Konfig', 'ST110_VARExtr_3_HeizungZone_1_Regler_X', 'ST110_VARExtr_3_HeizungZone_1_Regler_Y', 'ST110_VARExtr_3_HeizungZone_1_SollTemp', 'ST110_VARExtr_3_HeizungZone_2_ActEffectPower', 'ST110_VARExtr_3_HeizungZone_2_Konfig', 'ST110_VARExtr_3_HeizungZone_2_Regler_X', 'ST110_VARExtr_3_HeizungZone_2_Regler_Y', 'ST110_VARExtr_3_HeizungZone_2_SollTemp', 'ST110_VARExtr_3_HeizungZone_3_ActEffectPower', 'ST110_VARExtr_3_HeizungZone_3_Konfig', 'ST110_VARExtr_3_HeizungZone_3_Regler_X', 'ST110_VARExtr_3_HeizungZone_3_Regler_Y', 'ST110_VARExtr_3_HeizungZone_3_SollTemp', 'ST110_VARExtr_3_HeizungZone_4_ActEffectPower', 'ST110_VARExtr_3_HeizungZone_4_Konfig', 'ST110_VARExtr_3_HeizungZone_4_Regler_X', 'ST110_VARExtr_3_HeizungZone_4_Regler_Y', 'ST110_VARExtr_3_HeizungZone_4_SollTemp', 'ST110_VARExtr_3_HeizungZone_5_ActEffectPower', 'ST110_VARExtr_3_HeizungZone_5_Konfig', 'ST110_VARExtr_3_HeizungZone_5_Regler_X', 'ST110_VARExtr_3_HeizungZone_5_Regler_Y', 'ST110_VARExtr_3_HeizungZone_5_SollTemp', 'ST110_VARExtr_3_HeizungZone_6_ActEffectPower', 'ST110_VARExtr_3_HeizungZone_6_Konfig', 'ST110_VARExtr_3_HeizungZone_6_Regler_X', 'ST110_VARExtr_3_HeizungZone_6_Regler_Y', 'ST110_VARExtr_3_HeizungZone_6_SollTemp', 'ST110_VARExtr_3_HeizungZone_7_ActEffectPower', 'ST110_VARExtr_3_HeizungZone_7_Konfig', 'ST110_VARExtr_3_HeizungZone_7_Regler_X', 'ST110_VARExtr_3_HeizungZone_7_Regler_Y', 'ST110_VARExtr_3_HeizungZone_7_SollTemp', 'ST110_VARExtr_3_HeizungZone_8_ActEffectPower', 'ST110_VARExtr_3_HeizungZone_8_Konfig', 'ST110_VARExtr_3_HeizungZone_8_Regler_X', 'ST110_VARExtr_3_HeizungZone_8_Regler_Y', 'ST110_VARExtr_3_HeizungZone_8_SollTemp', 'ST110_VARExtr_3_Massetemperatur', 'ST110_VAREx_0_Dos_0_IstLMGewicht', 'ST110_VAREx_0_GesamtDS', 'ST110_VAREx_0_MischDicht', 'ST110_VAREx_0_RegelungEin', 'ST110_VAREx_0_SDickeIst', 'ST110_VAREx_0_SDickeProz', 'ST110_VAREx_0_SDickeSoll', 'ST110_VAREx_0_SollDS', 'ST110_VAREx_0_SollLM', 'ST110_VAREx_1_DissipationPwr', 'ST110_VAREx_1_Dos_0_IstLMGewicht', 'ST110_VAREx_1_Dos_0_Ventil', 'ST110_VAREx_1_Dos_1_IstFoerderrate', 'ST110_VAREx_1_Dos_2_IstAnteil', 'ST110_VAREx_1_Dos_2_IstDrehzahl', 'ST110_VAREx_1_Dos_2_IstDurchsatz', 'ST110_VAREx_1_Dos_2_IstFoerderrate', 'ST110_VAREx_1_Dos_2_Materialvorwahl', 'ST110_VAREx_1_Dos_2_SchuettDichte', 'ST110_VAREx_1_Dos_2_SollAnteil', 'ST110_VAREx_1_Dos_2_SollDichte', 'ST110_VAREx_1_Dos_2_SollStatus', 'ST110_VAREx_1_Dos_2_Ventil', 'ST110_VAREx_1_Dos_3_IstAnteil', 'ST110_VAREx_1_Dos_3_IstDrehzahl', 'ST110_VAREx_1_Dos_3_IstDurchsatz', 'ST110_VAREx_1_Dos_3_IstFoerderrate', 'ST110_VAREx_1_Dos_3_Materialvorwahl', 'ST110_VAREx_1_Dos_3_SchuettDichte', 'ST110_VAREx_1_Dos_3_SollAnteil', 'ST110_VAREx_1_Dos_3_SollDichte', 'ST110_VAREx_1_Dos_3_SollStatus', 'ST110_VAREx_1_Dos_3_Ventil', 'ST110_VAREx_1_Dos_4_IstAnteil', 'ST110_VAREx_1_Dos_4_IstDrehzahl', 'ST110_VAREx_1_Dos_4_IstDurchsatz', 'ST110_VAREx_1_Dos_4_IstFoerderrate', 'ST110_VAREx_1_Dos_4_Materialvorwahl', 'ST110_VAREx_1_Dos_4_SchuettDichte', 'ST110_VAREx_1_Dos_4_SollAnteil', 'ST110_VAREx_1_Dos_4_SollDichte', 'ST110_VAREx_1_Dos_4_SollStatus', 'ST110_VAREx_1_Dos_4_Ventil', 'ST110_VAREx_1_Dos_5_IstAnteil', 'ST110_VAREx_1_Dos_5_IstDrehzahl', 'ST110_VAREx_1_Dos_5_IstDurchsatz', 'ST110_VAREx_1_Dos_5_IstFoerderrate', 'ST110_VAREx_1_Dos_5_Materialvorwahl', 'ST110_VAREx_1_Dos_5_SchuettDichte', 'ST110_VAREx_1_Dos_5_SollAnteil', 'ST110_VAREx_1_Dos_5_SollDichte', 'ST110_VAREx_1_Dos_5_SollStatus', 'ST110_VAREx_1_Dos_5_Ventil', 'ST110_VAREx_1_Foerderrate', 'ST110_VAREx_1_GesamtDS', 'ST110_VAREx_1_MischDicht', 'ST110_VAREx_1_MischerMotor', 'ST110_VAREx_1_RegelungEin', 'ST110_VAREx_1_SDickeIst', 'ST110_VAREx_1_SDickeProz', 'ST110_VAREx_1_SDickeSoll', 'ST110_VAREx_1_SollLM', 'ST110_VAREx_2_DissipationPwr', 'ST110_VAREx_2_Dos_0_IstLMGewicht', 'ST110_VAREx_2_Dos_0_Ventil', 'ST110_VAREx_2_Dos_1_IstFoerderrate', 'ST110_VAREx_2_Dos_2_IstAnteil', 'ST110_VAREx_2_Dos_2_IstDrehzahl', 'ST110_VAREx_2_Dos_2_IstDurchsatz', 'ST110_VAREx_2_Dos_2_IstFoerderrate', 'ST110_VAREx_2_Dos_2_Materialvorwahl', 'ST110_VAREx_2_Dos_2_SchuettDichte', 'ST110_VAREx_2_Dos_2_SollAnteil', 'ST110_VAREx_2_Dos_2_SollDichte', 'ST110_VAREx_2_Dos_2_SollStatus', 'ST110_VAREx_2_Dos_2_Ventil', 'ST110_VAREx_2_Dos_3_IstAnteil', 'ST110_VAREx_2_Dos_3_IstDrehzahl', 'ST110_VAREx_2_Dos_3_IstDurchsatz', 'ST110_VAREx_2_Dos_3_IstFoerderrate', 'ST110_VAREx_2_Dos_3_Materialvorwahl', 'ST110_VAREx_2_Dos_3_SchuettDichte', 'ST110_VAREx_2_Dos_3_SollAnteil', 'ST110_VAREx_2_Dos_3_SollDichte', 'ST110_VAREx_2_Dos_3_SollStatus', 'ST110_VAREx_2_Dos_3_Ventil', 'ST110_VAREx_2_Dos_4_IstAnteil', 'ST110_VAREx_2_Dos_4_IstDrehzahl', 'ST110_VAREx_2_Dos_4_IstDurchsatz', 'ST110_VAREx_2_Dos_4_IstFoerderrate', 'ST110_VAREx_2_Dos_4_Materialvorwahl', 'ST110_VAREx_2_Dos_4_SchuettDichte', 'ST110_VAREx_2_Dos_4_SollAnteil', 'ST110_VAREx_2_Dos_4_SollDichte', 'ST110_VAREx_2_Dos_4_SollStatus', 'ST110_VAREx_2_Dos_4_Ventil', 'ST110_VAREx_2_Dos_5_IstAnteil', 'ST110_VAREx_2_Dos_5_IstDrehzahl', 'ST110_VAREx_2_Dos_5_IstDurchsatz', 'ST110_VAREx_2_Dos_5_IstFoerderrate', 'ST110_VAREx_2_Dos_5_Materialvorwahl', 'ST110_VAREx_2_Dos_5_SchuettDichte', 'ST110_VAREx_2_Dos_5_SollAnteil', 'ST110_VAREx_2_Dos_5_SollDichte', 'ST110_VAREx_2_Dos_5_SollStatus', 'ST110_VAREx_2_Dos_5_Ventil', 'ST110_VAREx_2_Foerderrate', 'ST110_VAREx_2_GesamtDS', 'ST110_VAREx_2_MischDicht', 'ST110_VAREx_2_MischerMotor', 'ST110_VAREx_2_RegelungEin', 'ST110_VAREx_2_SDickeIst', 'ST110_VAREx_2_SDickeProz', 'ST110_VAREx_2_SDickeSoll', 'ST110_VAREx_2_SollLM', 'ST110_VAREx_3_DissipationPwr', 'ST110_VAREx_3_Dos_0_IstLMGewicht', 'ST110_VAREx_3_Dos_0_Ventil', 'ST110_VAREx_3_Dos_1_IstFoerderrate', 'ST110_VAREx_3_Dos_2_IstAnteil', 'ST110_VAREx_3_Dos_2_IstDrehzahl', 'ST110_VAREx_3_Dos_2_IstDurchsatz', 'ST110_VAREx_3_Dos_2_IstFoerderrate', 'ST110_VAREx_3_Dos_2_Materialvorwahl', 'ST110_VAREx_3_Dos_2_SchuettDichte', 'ST110_VAREx_3_Dos_2_SollAnteil', 'ST110_VAREx_3_Dos_2_SollDichte', 'ST110_VAREx_3_Dos_2_SollStatus', 'ST110_VAREx_3_Dos_2_Ventil', 'ST110_VAREx_3_Dos_3_IstAnteil', 'ST110_VAREx_3_Dos_3_IstDrehzahl', 'ST110_VAREx_3_Dos_3_IstDurchsatz', 'ST110_VAREx_3_Dos_3_IstFoerderrate', 'ST110_VAREx_3_Dos_3_Materialvorwahl', 'ST110_VAREx_3_Dos_3_SchuettDichte', 'ST110_VAREx_3_Dos_3_SollAnteil', 'ST110_VAREx_3_Dos_3_SollDichte', 'ST110_VAREx_3_Dos_3_SollStatus', 'ST110_VAREx_3_Dos_3_Ventil', 'ST110_VAREx_3_Dos_4_IstAnteil', 'ST110_VAREx_3_Dos_4_IstDrehzahl', 'ST110_VAREx_3_Dos_4_IstDurchsatz', 'ST110_VAREx_3_Dos_4_IstFoerderrate', 'ST110_VAREx_3_Dos_4_Materialvorwahl', 'ST110_VAREx_3_Dos_4_SchuettDichte', 'ST110_VAREx_3_Dos_4_SollAnteil', 'ST110_VAREx_3_Dos_4_SollDichte', 'ST110_VAREx_3_Dos_4_SollStatus', 'ST110_VAREx_3_Dos_4_Ventil', 'ST110_VAREx_3_Dos_5_IstAnteil', 'ST110_VAREx_3_Dos_5_IstDrehzahl', 'ST110_VAREx_3_Dos_5_IstDurchsatz', 'ST110_VAREx_3_Dos_5_IstFoerderrate', 'ST110_VAREx_3_Dos_5_Materialvorwahl', 'ST110_VAREx_3_Dos_5_SchuettDichte', 'ST110_VAREx_3_Dos_5_SollAnteil', 'ST110_VAREx_3_Dos_5_SollDichte', 'ST110_VAREx_3_Dos_5_SollStatus', 'ST110_VAREx_3_Dos_5_Ventil', 'ST110_VAREx_3_Foerderrate', 'ST110_VAREx_3_GesamtDS', 'ST110_VAREx_3_MischDicht', 'ST110_VAREx_3_MischerMotor', 'ST110_VAREx_3_RegelungEin', 'ST110_VAREx_3_SDickeIst', 'ST110_VAREx_3_SDickeProz', 'ST110_VAREx_3_SDickeSoll', 'ST110_VAREx_3_SollLM', 'ST110_VARGeblaese_1_Auslastung', 'ST110_VARGeblaese_2_Auslastung', 'ST110_VARGeblaese_3_Auslastung', 'ST110_VARIBC_1_Ist_n_Calc', 'ST110_VARIBC_1_Soll_n_Visu', 'ST110_VARIBC_2_Ist_n_Calc', 'ST110_VARIBC_2_Soll_n_Visu', 'ST110_VARIBC_3_Ist_n_Calc', 'ST110_VARIBC_3_Soll_n_Visu', 'ST110_VARKorbBreiteIstBreite', 'ST110_VARKorb_dIst_d', 'ST110_VARKorb_dSoll_d', 'ST110_VARKuehlGeraet_1_IstTemp', 'ST110_VARKuehlGeraet_1_SollTemp', 'ST110_VARKuehlGeraet_2_IstTemp', 'ST110_VARKuehlGeraet_2_SollTemp', 'ST110_VARKuehlGeraet_3_IstTemp', 'ST110_VARKuehlGeraet_3_SollTemp', 'ST110_VARProfilCmdBefehl', 'ST110_VARProfilCmdMessung', 'ST110_VARProfilCmdReglerEin', 'ST110_VARProfilCmdReglerStop', 'ST110_VARTrichter_10_Vorwahl', 'ST110_VARTrichter_11_Vorwahl', 'ST110_VARTrichter_15_Vorwahl', 'ST110_VARTrichter_16_Vorwahl', 'ST110_VARTrichter_17_Vorwahl', 'ST110_VARTrichter_18_Vorwahl', 'ST110_VARTrichter_1_Vorwahl', 'ST110_VARTrichter_2_Vorwahl', 'ST110_VARTrichter_3_Vorwahl', 'ST110_VARTrichter_4_Vorwahl', 'ST110_VARTrichter_8_Vorwahl', 'ST110_VARTrichter_9_Vorwahl', 'ST110_VARUSBRegelungIstwert', 'ST110_VARUSBRegelungPosKlappe', 'ST110_VARUSBRegelungRegelungEin', 'ST110_VARUSBRegelungSollwert', 'ST112_VARAbzug_1_IstEin', 'ST112_VARAbzug_1_IstZu', 'ST112_VARAbzug_1_SollSpeed', 'ST112_VARHoursCntAbzugEin', 'ST112_VARHoursCntAbzugWartung', 'ST112_VARReversierungSollEin', 'ST112_VARReversierungSollSpeed', 'ST112_VARReversierungSollWinkel', 'ST112_VARReversierungZeit', 'ST112_VARSeitenfuehrungUntenAufVisu', 'ST112_VARSeitenfuehrungUntenZuVisu', 'ST112_VARWendestangenSollwert180O', 'ST112_VARWendestangenSollwert180U', 'ST112_VARWendestangenSollwert360O', 'ST112_VARWendestangenSollwert360U', 'ST113_VARActLen', 'ST113_VARCdEnable', 'ST113_VARCdSpeedHMI', 'ST113_VARCdSpSpeed', 'ST113_VARCdSpTens', 'ST113_VARCdTensVis', 'ST113_VARClpEnable', 'ST113_VARClpNum', 'ST113_VARClpReductVal', 'ST113_VARClpTens', 'ST113_VARCntStart', 'ST113_VARDiaNextRollRc', 'ST113_VARDiaRollPanel', 'ST113_VARDiaRollRc', 'ST113_VARDiaShaft', 'ST113_VARGapDiff', 'ST113_VARGapEnable', 'ST113_VARGapMax', 'ST113_VARGapMin', 'ST113_VARGesamtZeit', 'ST113_VARInitLayOnPress', 'ST113_VARLmpRun', 'ST113_VARPivotLoadCmd', 'ST113_VARPnCloseCmd', 'ST113_VARPnEdgeCmd', 'ST113_VARPnSpeedHMI', 'ST113_VARPnSpSpeed', 'ST113_VARPnSpTens', 'ST113_VARPnTensVis', 'ST113_VARPrevLen', 'ST113_VARRemainingLen', 'ST113_VARRemainingTimeVis', 'ST113_VARRotationReverse', 'ST113_VARSwdSpeedHMI', 'ST113_VARSwdSpSpeed', 'ST113_VARTagZeit', 'ST113_VARTapeNum', 'ST113_VARTapeReductVal', 'ST113_VARTargetLenActRoll', 'ST113_VARTargetLenNextRoll', 'ST113_VARTensPlusEnable', 'ST113_VARTensPlusSp', 'ST113_VARTotalLen', 'ST113_VARTotalRolls', 'ST113_VARWdCloseCmd', 'ST113_VARWdSpeedHMI', 'ST113_VARWdSpSpeed', 'ST113_VARWdSpTens', 'ST113_VARWdTapeNum', 'ST113_VARWdTapeReductVal', 'ST113_VARWdTensVis', 'ST114_VARActLen', 'ST114_VARCdEnable', 'ST114_VARCdSpeedHMI', 'ST114_VARCdSpSpeed', 'ST114_VARCdSpTens', 'ST114_VARCdTensVis', 'ST114_VARClpEnable', 'ST114_VARClpNum', 'ST114_VARClpReductVal', 'ST114_VARClpTens', 'ST114_VARCntStart', 'ST114_VARDiaNextRollRc', 'ST114_VARDiaRollPanel', 'ST114_VARDiaRollRc', 'ST114_VARDiaShaft', 'ST114_VARGapDiff', 'ST114_VARGapEnable', 'ST114_VARGapMax', 'ST114_VARGapMin', 'ST114_VARGesamtZeit', 'ST114_VARInitLayOnPress', 'ST114_VARLmpRun', 'ST114_VARPrevLen', 'ST114_VARRemainingLen', 'ST114_VARRemainingTimeVis', 'ST114_VARRotationReverse', 'ST114_VARSwdSpeedHMI', 'ST114_VARSwdSpSpeed', 'ST114_VARTagZeit', 'ST114_VARTapeNum', 'ST114_VARTapeReductVal', 'ST114_VARTargetLenActRoll', 'ST114_VARTargetLenNextRoll', 'ST114_VARTensPlusEnable', 'ST114_VARTensPlusSp', 'ST114_VARTotalLen', 'ST114_VARTotalRolls', 'ST114_VARWdCloseCmd', 'ST114_VARWdSpeedHMI', 'ST114_VARWdSpSpeed', 'ST114_VARWdSpTens', 'ST114_VARWdTapeNum', 'ST114_VARWdTapeReductVal', 'ST114_VARWdTensVis']\n",
            "(226536, 470)\n",
            "(470,)\n"
          ],
          "name": "stdout"
        }
      ]
    },
    {
      "cell_type": "code",
      "metadata": {
        "id": "FJzTdWcqxjkj"
      },
      "source": [
        "del df['Datum']\n",
        "columns.remove('Datum')"
      ],
      "execution_count": null,
      "outputs": []
    },
    {
      "cell_type": "code",
      "metadata": {
        "colab": {
          "base_uri": "https://localhost:8080/"
        },
        "id": "_Diw2Gds6vSY",
        "outputId": "e3da6d26-6946-458a-d9e3-bb5dd57ec8cf"
      },
      "source": [
        "target_index = columns.index('ST110_VAREx_0_SDickeIst')\n",
        "print(target_index)"
      ],
      "execution_count": null,
      "outputs": [
        {
          "output_type": "stream",
          "text": [
            "157\n"
          ],
          "name": "stdout"
        }
      ]
    },
    {
      "cell_type": "code",
      "metadata": {
        "colab": {
          "base_uri": "https://localhost:8080/"
        },
        "id": "bSOLRgjGTS1Q",
        "outputId": "3212cedc-9413-4ece-e7f9-bf7dcc8f1f3c"
      },
      "source": [
        "X = np.asarray(df)[:, :]\n",
        "Y = np.asarray(df)[:, target_index]\n",
        "\n",
        "print(\"X.shape: \", X.shape)\n",
        "print(\"Y.shape: \", Y.shape)"
      ],
      "execution_count": null,
      "outputs": [
        {
          "output_type": "stream",
          "text": [
            "X.shape:  (226536, 469)\n",
            "Y.shape:  (226536,)\n"
          ],
          "name": "stdout"
        }
      ]
    },
    {
      "cell_type": "code",
      "metadata": {
        "id": "VpBLQ6kRyjam"
      },
      "source": [
        "selected_feature_idx = [36, 46, 130, 156, 157, 159, 253, 261, 274, 278, 288, 465, 468]"
      ],
      "execution_count": null,
      "outputs": []
    },
    {
      "cell_type": "code",
      "metadata": {
        "colab": {
          "base_uri": "https://localhost:8080/"
        },
        "id": "iBeoB9I8UGKJ",
        "outputId": "74031ae5-8ad9-44ab-b763-4fc06b931013"
      },
      "source": [
        "x = min_max_scaling(X0[:, selected_feature_idx])\n",
        "y = min_max_scaling(Y0)\n",
        "print(x.shape)\n",
        "print(y.shape)"
      ],
      "execution_count": null,
      "outputs": [
        {
          "output_type": "stream",
          "text": [
            "(18397, 13)\n",
            "(18397,)\n"
          ],
          "name": "stdout"
        }
      ]
    },
    {
      "cell_type": "code",
      "metadata": {
        "colab": {
          "base_uri": "https://localhost:8080/"
        },
        "id": "eYOM7PTnImBa",
        "outputId": "0c406ead-13d5-4ec1-df64-9ab26c3b704d"
      },
      "source": [
        "predict_length = 1\n",
        "\n",
        "dataX = []\n",
        "dataY = []\n",
        "for i in range(0, len(y) - seq_length - predict_length + 1):\n",
        "    _x = x[i : i + seq_length]\n",
        "    _y = y[i + seq_length : i + seq_length + predict_length]\n",
        "    dataX.append(_x)\n",
        "    dataY.append(_y)\n",
        "\n",
        "dataX = np.array(dataX)\n",
        "dataY = np.array(dataY)\n",
        "\n",
        "print(dataX.shape)\n",
        "print(dataY.shape)"
      ],
      "execution_count": null,
      "outputs": [
        {
          "output_type": "stream",
          "text": [
            "(17397, 1000, 13)\n",
            "(17397, 1)\n"
          ],
          "name": "stdout"
        }
      ]
    },
    {
      "cell_type": "code",
      "metadata": {
        "colab": {
          "base_uri": "https://localhost:8080/"
        },
        "id": "h150S03pXTDe",
        "outputId": "f579a59f-8241-407c-f287-2b85a78b8ca2"
      },
      "source": [
        "trainX, testX, trainY, testY = train_test_split(dataX, dataY, test_size=0.3, shuffle = False)\n",
        "trainY = tf.expand_dims(trainY,2)\n",
        "testY = tf.expand_dims(testY,2)\n",
        "\n",
        "print(trainX.shape)\n",
        "print(trainY.shape)\n",
        "print(testX.shape)\n",
        "print(testY.shape)"
      ],
      "execution_count": null,
      "outputs": [
        {
          "output_type": "stream",
          "text": [
            "(12177, 1000, 13)\n",
            "(12177, 1, 1)\n",
            "(5220, 1000, 13)\n",
            "(5220, 1, 1)\n"
          ],
          "name": "stdout"
        }
      ]
    },
    {
      "cell_type": "code",
      "metadata": {
        "colab": {
          "base_uri": "https://localhost:8080/"
        },
        "id": "O1-GgageY8q8",
        "outputId": "988a19f2-71fc-4ecf-a75b-3efe869c33d7"
      },
      "source": [
        "# LSTM 모델 / LSTM Model\n",
        "model = Sequential([\n",
        "    LSTM(32, input_shape = (seq_length, len(selected_feature_idx)), return_sequences=True, activation = 'relu'),\n",
        "    LSTM(64, return_sequences=True, activation = 'relu'),\n",
        "    Dropout(0.5),\n",
        "    LSTM(64, return_sequences=False, activation = 'relu',kernel_initializer='he_uniform'),\n",
        "    Dense(64, activation = 'relu'),\n",
        "    # LSTM(8, return_sequences=False, activation = 'sigmoid'),\n",
        "    Dense(predict_length)\n",
        "])\n",
        "\n",
        "model.summary()\n",
        "\n",
        "#kernel_initializer='he_uniform'"
      ],
      "execution_count": null,
      "outputs": [
        {
          "output_type": "stream",
          "text": [
            "Model: \"sequential_3\"\n",
            "_________________________________________________________________\n",
            "Layer (type)                 Output Shape              Param #   \n",
            "=================================================================\n",
            "lstm_8 (LSTM)                (None, 1000, 32)          5888      \n",
            "_________________________________________________________________\n",
            "lstm_9 (LSTM)                (None, 1000, 64)          24832     \n",
            "_________________________________________________________________\n",
            "dropout_3 (Dropout)          (None, 1000, 64)          0         \n",
            "_________________________________________________________________\n",
            "lstm_10 (LSTM)               (None, 64)                33024     \n",
            "_________________________________________________________________\n",
            "dense_6 (Dense)              (None, 64)                4160      \n",
            "_________________________________________________________________\n",
            "dense_7 (Dense)              (None, 1)                 65        \n",
            "=================================================================\n",
            "Total params: 67,969\n",
            "Trainable params: 67,969\n",
            "Non-trainable params: 0\n",
            "_________________________________________________________________\n"
          ],
          "name": "stdout"
        }
      ]
    },
    {
      "cell_type": "code",
      "metadata": {
        "id": "mVHWyDVFfkpS"
      },
      "source": [
        "    # LSTM(32, input_shape = (seq_length, len(selected_feature_idx)), return_sequences=True, activation = 'relu'),\r\n",
        "    # LSTM(32, return_sequences=False, activation = 'relu'),\r\n",
        "    # Dropout(0.3),\r\n",
        "    # Dense(64, activation = 'relu'),\r\n",
        "\r\n",
        "#     model = Sequential([\r\n",
        "#     LSTM(32, input_shape = (seq_length, len(selected_feature_idx)), return_sequences=True, activation = 'relu'),\r\n",
        "#     LSTM(64, return_sequences=True, activation = 'relu'),\r\n",
        "#     Dropout(0.3),\r\n",
        "#     LSTM(64, return_sequences=False, activation = 'relu'),\r\n",
        "#     Dense(64, activation = 'relu'),\r\n",
        "#     # LSTM(8, return_sequences=False, activation = 'sigmoid'),\r\n",
        "#     Dense(predict_length)\r\n",
        "# ])\r\n",
        "\r\n",
        "# model.summary()"
      ],
      "execution_count": null,
      "outputs": []
    },
    {
      "cell_type": "code",
      "metadata": {
        "colab": {
          "background_save": true,
          "base_uri": "https://localhost:8080/"
        },
        "id": "c1I3WPrMZ743",
        "outputId": "e95f8c62-6608-4051-8ec3-f3254e4d8e14"
      },
      "source": [
        "# 모델 학습 설정 및 진행 / Model Training options and Progress\n",
        "from keras.callbacks import EarlyStopping, ModelCheckpoint\n",
        "\n",
        "early_stopping = EarlyStopping(monitor='loss', patience=5)\n",
        "\n",
        "adam = keras.optimizers.Adam(lr=0.001, beta_1=0.9, beta_2=0.999)\n",
        "model.compile(loss='mse', optimizer = adam, metrics=[\"mse\"])\n",
        "history = model.fit(trainX, trainY, batch_size = 100, epochs = 5, validation_split=0.1, callbacks=[early_stopping])"
      ],
      "execution_count": null,
      "outputs": [
        {
          "output_type": "stream",
          "text": [
            "Epoch 1/10\n",
            "110/110 [==============================] - 240s 2s/step - loss: 0.0024 - mse: 0.0024 - val_loss: 0.0021 - val_mse: 0.0021\n",
            "Epoch 2/10\n",
            "110/110 [==============================] - 244s 2s/step - loss: 0.0017 - mse: 0.0017 - val_loss: 0.0020 - val_mse: 0.0020\n",
            "Epoch 3/10\n",
            "110/110 [==============================] - 243s 2s/step - loss: 0.0016 - mse: 0.0016 - val_loss: 0.0020 - val_mse: 0.0020\n",
            "Epoch 4/10\n",
            "110/110 [==============================] - 243s 2s/step - loss: 0.0014 - mse: 0.0014 - val_loss: 0.0020 - val_mse: 0.0020\n",
            "Epoch 5/10\n",
            "110/110 [==============================] - 243s 2s/step - loss: 0.0013 - mse: 0.0013 - val_loss: 0.0018 - val_mse: 0.0018\n",
            "Epoch 6/10\n",
            "110/110 [==============================] - 244s 2s/step - loss: 0.0013 - mse: 0.0013 - val_loss: 0.0015 - val_mse: 0.0015\n",
            "Epoch 7/10\n",
            "110/110 [==============================] - 244s 2s/step - loss: 0.0011 - mse: 0.0011 - val_loss: 0.0015 - val_mse: 0.0015\n",
            "Epoch 8/10\n",
            "110/110 [==============================] - 246s 2s/step - loss: 9.3356e-04 - mse: 9.3356e-04 - val_loss: 0.0014 - val_mse: 0.0014\n",
            "Epoch 9/10\n",
            "110/110 [==============================] - 245s 2s/step - loss: 8.5893e-04 - mse: 8.5893e-04 - val_loss: 0.0011 - val_mse: 0.0011\n",
            "Epoch 10/10\n",
            "110/110 [==============================] - 246s 2s/step - loss: 7.2506e-04 - mse: 7.2506e-04 - val_loss: 0.0010 - val_mse: 0.0010\n"
          ],
          "name": "stdout"
        }
      ]
    },
    {
      "cell_type": "code",
      "metadata": {
        "colab": {
          "base_uri": "https://localhost:8080/",
          "height": 319
        },
        "id": "rBrGh4s7acrI",
        "outputId": "9a0adcc0-34d4-4c83-f6ba-9cae3e4d697d"
      },
      "source": [
        "# 학습 과정 살펴보기 / watching train loss\n",
        "print(history.history['loss'])\n",
        "fig, loss_ax = plt.subplots()\n",
        "acc_ax = loss_ax.twinx()\n",
        "loss_ax.plot(history.history['loss'], 'y', label='train loss')\n",
        "loss_ax.set_xlabel('epoch')\n",
        "loss_ax.set_ylabel('loss')\n",
        "loss_ax.legend(loc='upper left')\n",
        "acc_ax.legend(loc='lower left')\n",
        "plt.show()"
      ],
      "execution_count": null,
      "outputs": [
        {
          "output_type": "stream",
          "text": [
            "No handles with labels found to put in legend.\n"
          ],
          "name": "stderr"
        },
        {
          "output_type": "stream",
          "text": [
            "[0.003400081302970648, 0.001752649899572134, 0.00164689589291811, 0.00141313043422997, 0.0011608811328187585, 0.0011107356986030936, 0.0008770883432589471, 0.0008442584075964987, 0.0007148339063860476, 0.0006310174358077347]\n"
          ],
          "name": "stdout"
        },
        {
          "output_type": "display_data",
          "data": {
            "image/png": "[encoded data removed]",
            "text/plain": [
              "<Figure size 432x288 with 2 Axes>"
            ]
          },
          "metadata": {
            "tags": []
          }
        }
      ]
    },
    {
      "cell_type": "code",
      "metadata": {
        "colab": {
          "base_uri": "https://localhost:8080/"
        },
        "id": "fugf80JCojBe",
        "outputId": "5ef78e48-d6f4-4912-9aa1-ab7c058e7f32"
      },
      "source": [
        "model.evaluate(testX, testY)"
      ],
      "execution_count": null,
      "outputs": [
        {
          "output_type": "stream",
          "text": [
            "164/164 [==============================] - 42s 253ms/step - loss: 0.0027 - mse: 0.0027\n"
          ],
          "name": "stdout"
        },
        {
          "output_type": "execute_result",
          "data": {
            "text/plain": [
              "[0.0026854793541133404, 0.0026854793541133404]"
            ]
          },
          "metadata": {
            "tags": []
          },
          "execution_count": 80
        }
      ]
    },
    {
      "cell_type": "code",
      "metadata": {
        "id": "KR0rSrARagsS"
      },
      "source": [
        "# 예측\n",
        "pred = model.predict(testX)"
      ],
      "execution_count": null,
      "outputs": []
    },
    {
      "cell_type": "code",
      "metadata": {
        "colab": {
          "base_uri": "https://localhost:8080/",
          "height": 537
        },
        "id": "gunw12u-px7x",
        "outputId": "75b6e775-513e-48d7-e863-c2b00f34f29a"
      },
      "source": [
        "plt.figure(figsize=(12, 9))\n",
        "plt.plot(testY[:,0], label='actual')\n",
        "plt.plot(pred[:,0], label='prediction')\n",
        "plt.legend()\n",
        "# plt.xlim(0,2000)\n",
        "# plt.ylim(-0.2, 1.2)\n",
        "plt.show()"
      ],
      "execution_count": null,
      "outputs": [
        {
          "output_type": "display_data",
          "data": {
            "image/png": "[encoded data removed]",
            "text/plain": [
              "<Figure size 864x648 with 1 Axes>"
            ]
          },
          "metadata": {
            "tags": []
          }
        }
      ]
    }
  ]
}