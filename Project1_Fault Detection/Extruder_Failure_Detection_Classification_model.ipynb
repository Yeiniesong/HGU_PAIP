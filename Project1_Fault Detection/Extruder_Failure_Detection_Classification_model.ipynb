{
  "nbformat": 4,
  "nbformat_minor": 0,
  "metadata": {
    "colab": {
      "name": "Model.ipynb의 사본",
      "provenance": [],
      "collapsed_sections": []
    },
    "kernelspec": {
      "display_name": "Python 3",
      "language": "python",
      "name": "python3"
    },
    "language_info": {
      "codemirror_mode": {
        "name": "ipython",
        "version": 3
      },
      "file_extension": ".py",
      "mimetype": "text/x-python",
      "name": "python",
      "nbconvert_exporter": "python",
      "pygments_lexer": "ipython3",
      "version": "3.7.6"
    }
  },
  "cells": [
    {
      "cell_type": "code",
      "metadata": {
        "colab": {
          "base_uri": "https://localhost:8080/"
        },
        "id": "gp3Odk1XHsZa",
        "outputId": "f60b7b65-0e90-4bc7-fefd-4f4c4ef49e21"
      },
      "source": [
        "import numpy as np\n",
        "import pandas as pd\n",
        "import matplotlib.pyplot as plt\n",
        "from sklearn.preprocessing import StandardScaler, MinMaxScaler\n",
        "from sklearn.model_selection import train_test_split\n",
        "\n",
        "import tensorflow as tf\n",
        "import keras\n",
        "from keras.models import Sequential\n",
        "from keras.layers import Dense, LSTM, Flatten, TimeDistributed, Dropout\n",
        "from keras import optimizers\n",
        "from sklearn.metrics import mean_squared_error\n",
        "\n",
        "from google.colab import drive\n",
        "drive.mount('/content/drive')\n"
      ],
      "execution_count": 1,
      "outputs": [
        {
          "output_type": "stream",
          "text": [
            "Mounted at /content/drive\n"
          ],
          "name": "stdout"
        }
      ]
    },
    {
      "cell_type": "code",
      "metadata": {
        "id": "ZoS8lGbLHsZd",
        "colab": {
          "base_uri": "https://localhost:8080/"
        },
        "outputId": "9f849aa2-eefc-4a8b-9742-86e34bbd43cc"
      },
      "source": [
        "tf.random.set_seed(42)\n",
        "\n",
        "file_name = '/content/drive/My Drive/Colab Notebooks/extrusion.csv'\n",
        "\n",
        "df = pd.read_csv(file_name)\n",
        "df.info()\n",
        "\n",
        "columns = df.columns.tolist()\n",
        "print(columns)\n",
        "\n",
        "\n",
        "print(df.shape)\n",
        "print(np.shape(columns))"
      ],
      "execution_count": 2,
      "outputs": [
        {
          "output_type": "stream",
          "text": [
            "<class 'pandas.core.frame.DataFrame'>\n",
            "RangeIndex: 226536 entries, 0 to 226535\n",
            "Columns: 470 entries, Datum to ST114_VARWdTensVis\n",
            "dtypes: float64(469), object(1)\n",
            "memory usage: 812.3+ MB\n",
            "['Datum', 'ST0_VARActAuftrag', 'ST110_VARExtr_0_HeizungZone_3_Regler_Y', 'ST110_VARExtr_0_HeizungZone_3_SollTemp', 'ST110_VARExtr_0_HeizungZone_4_Konfig', 'ST110_VARExtr_0_HeizungZone_4_Regler_X', 'ST110_VARExtr_0_HeizungZone_4_Regler_Y', 'ST110_VARExtr_0_HeizungZone_4_SollTemp', 'ST110_VARExtr_0_HeizungZone_5_Konfig', 'ST110_VARExtr_0_HeizungZone_5_Regler_X', 'ST110_VARExtr_0_HeizungZone_5_Regler_Y', 'ST110_VARExtr_0_HeizungZone_5_SollTemp', 'ST110_VARExtr_0_HeizungZone_6_Konfig', 'ST110_VARExtr_0_HeizungZone_6_Regler_X', 'ST110_VARExtr_0_HeizungZone_6_Regler_Y', 'ST110_VARExtr_0_HeizungZone_6_SollTemp', 'ST110_VARExtr_0_HeizungZone_7_Konfig', 'ST110_VARExtr_0_HeizungZone_7_Regler_X', 'ST110_VARExtr_0_HeizungZone_7_Regler_Y', 'ST110_VARExtr_0_HeizungZone_7_SollTemp', 'ST110_VARExtr_0_HeizungZone_8_Konfig', 'ST110_VARExtr_0_HeizungZone_8_Regler_X', 'ST110_VARExtr_0_HeizungZone_8_Regler_Y', 'ST110_VARExtr_0_HeizungZone_8_SollTemp', 'ST110_VARExtr_0_HeizungZone_9_Konfig', 'ST110_VARExtr_0_HeizungZone_9_Regler_X', 'ST110_VARExtr_0_HeizungZone_9_Regler_Y', 'ST110_VARExtr_0_HeizungZone_9_SollTemp', 'ST110_VARExtr_1_druck_1_IstP', 'ST110_VARExtr_1_HeizungZone_1_ActEffectPower', 'ST110_VARExtr_1_HeizungZone_1_Konfig', 'ST110_VARExtr_1_HeizungZone_1_Regler_X', 'ST110_VARExtr_1_HeizungZone_1_Regler_Y', 'ST110_VARExtr_1_HeizungZone_1_SollTemp', 'ST110_VARExtr_1_HeizungZone_2_ActEffectPower', 'ST110_VARExtr_1_HeizungZone_2_Konfig', 'ST110_VARExtr_1_HeizungZone_2_Regler_X', 'ST110_VARExtr_1_HeizungZone_2_Regler_Y', 'ST110_VARExtr_1_HeizungZone_2_SollTemp', 'ST110_VARExtr_1_HeizungZone_3_ActEffectPower', 'ST110_VARExtr_1_HeizungZone_3_Konfig', 'ST110_VARExtr_1_HeizungZone_3_Regler_X', 'ST110_VARExtr_1_HeizungZone_3_Regler_Y', 'ST110_VARExtr_1_HeizungZone_3_SollTemp', 'ST110_VARExtr_1_HeizungZone_4_ActEffectPower', 'ST110_VARExtr_1_HeizungZone_4_Konfig', 'ST110_VARExtr_1_HeizungZone_4_Regler_X', 'ST110_VARExtr_1_HeizungZone_4_Regler_Y', 'ST110_VARExtr_1_HeizungZone_4_SollTemp', 'ST110_VARExtr_1_HeizungZone_5_ActEffectPower', 'ST110_VARExtr_1_HeizungZone_5_Konfig', 'ST110_VARExtr_1_HeizungZone_5_Regler_X', 'ST110_VARExtr_1_HeizungZone_5_Regler_Y', 'ST110_VARExtr_1_HeizungZone_5_SollTemp', 'ST110_VARExtr_1_HeizungZone_6_ActEffectPower', 'ST110_VARExtr_1_HeizungZone_6_Konfig', 'ST110_VARExtr_1_HeizungZone_6_Regler_X', 'ST110_VARExtr_1_HeizungZone_6_Regler_Y', 'ST110_VARExtr_1_HeizungZone_6_SollTemp', 'ST110_VARExtr_1_HeizungZone_7_ActEffectPower', 'ST110_VARExtr_1_HeizungZone_7_Konfig', 'ST110_VARExtr_1_HeizungZone_7_Regler_X', 'ST110_VARExtr_1_HeizungZone_7_Regler_Y', 'ST110_VARExtr_1_HeizungZone_7_SollTemp', 'ST110_VARExtr_1_HeizungZone_8_ActEffectPower', 'ST110_VARExtr_1_HeizungZone_8_Konfig', 'ST110_VARExtr_1_HeizungZone_8_Regler_X', 'ST110_VARExtr_1_HeizungZone_8_Regler_Y', 'ST110_VARExtr_1_HeizungZone_8_SollTemp', 'ST110_VARExtr_1_Massetemperatur', 'ST110_VARExtr_2_druck_1_IstP', 'ST110_VARExtr_2_HeizungZone_1_ActEffectPower', 'ST110_VARExtr_2_HeizungZone_1_Konfig', 'ST110_VARExtr_2_HeizungZone_1_Regler_X', 'ST110_VARExtr_2_HeizungZone_1_Regler_Y', 'ST110_VARExtr_2_HeizungZone_1_SollTemp', 'ST110_VARExtr_2_HeizungZone_2_ActEffectPower', 'ST110_VARExtr_2_HeizungZone_2_Konfig', 'ST110_VARExtr_2_HeizungZone_2_Regler_X', 'ST110_VARExtr_2_HeizungZone_2_Regler_Y', 'ST110_VARExtr_2_HeizungZone_2_SollTemp', 'ST110_VARExtr_2_HeizungZone_3_ActEffectPower', 'ST110_VARExtr_2_HeizungZone_3_Konfig', 'ST110_VARExtr_2_HeizungZone_3_Regler_X', 'ST110_VARExtr_2_HeizungZone_3_Regler_Y', 'ST110_VARExtr_2_HeizungZone_3_SollTemp', 'ST110_VARExtr_2_HeizungZone_4_ActEffectPower', 'ST110_VARExtr_2_HeizungZone_4_Konfig', 'ST110_VARExtr_2_HeizungZone_4_Regler_X', 'ST110_VARExtr_2_HeizungZone_4_Regler_Y', 'ST110_VARExtr_2_HeizungZone_4_SollTemp', 'ST110_VARExtr_2_HeizungZone_5_ActEffectPower', 'ST110_VARExtr_2_HeizungZone_5_Konfig', 'ST110_VARExtr_2_HeizungZone_5_Regler_X', 'ST110_VARExtr_2_HeizungZone_5_Regler_Y', 'ST110_VARExtr_2_HeizungZone_5_SollTemp', 'ST110_VARExtr_2_HeizungZone_6_ActEffectPower', 'ST110_VARExtr_2_HeizungZone_6_Konfig', 'ST110_VARExtr_2_HeizungZone_6_Regler_X', 'ST110_VARExtr_2_HeizungZone_6_Regler_Y', 'ST110_VARExtr_2_HeizungZone_6_SollTemp', 'ST110_VARExtr_2_HeizungZone_7_ActEffectPower', 'ST110_VARExtr_2_HeizungZone_7_Konfig', 'ST110_VARExtr_2_HeizungZone_7_Regler_X', 'ST110_VARExtr_2_HeizungZone_7_Regler_Y', 'ST110_VARExtr_2_HeizungZone_7_SollTemp', 'ST110_VARExtr_2_HeizungZone_8_ActEffectPower', 'ST110_VARExtr_2_HeizungZone_8_Konfig', 'ST110_VARExtr_2_HeizungZone_8_Regler_X', 'ST110_VARExtr_2_HeizungZone_8_Regler_Y', 'ST110_VARExtr_2_HeizungZone_8_SollTemp', 'ST110_VARExtr_2_Massetemperatur', 'ST110_VARExtr_3_druck_1_IstP', 'ST110_VARExtr_3_HeizungZone_1_ActEffectPower', 'ST110_VARExtr_3_HeizungZone_1_Konfig', 'ST110_VARExtr_3_HeizungZone_1_Regler_X', 'ST110_VARExtr_3_HeizungZone_1_Regler_Y', 'ST110_VARExtr_3_HeizungZone_1_SollTemp', 'ST110_VARExtr_3_HeizungZone_2_ActEffectPower', 'ST110_VARExtr_3_HeizungZone_2_Konfig', 'ST110_VARExtr_3_HeizungZone_2_Regler_X', 'ST110_VARExtr_3_HeizungZone_2_Regler_Y', 'ST110_VARExtr_3_HeizungZone_2_SollTemp', 'ST110_VARExtr_3_HeizungZone_3_ActEffectPower', 'ST110_VARExtr_3_HeizungZone_3_Konfig', 'ST110_VARExtr_3_HeizungZone_3_Regler_X', 'ST110_VARExtr_3_HeizungZone_3_Regler_Y', 'ST110_VARExtr_3_HeizungZone_3_SollTemp', 'ST110_VARExtr_3_HeizungZone_4_ActEffectPower', 'ST110_VARExtr_3_HeizungZone_4_Konfig', 'ST110_VARExtr_3_HeizungZone_4_Regler_X', 'ST110_VARExtr_3_HeizungZone_4_Regler_Y', 'ST110_VARExtr_3_HeizungZone_4_SollTemp', 'ST110_VARExtr_3_HeizungZone_5_ActEffectPower', 'ST110_VARExtr_3_HeizungZone_5_Konfig', 'ST110_VARExtr_3_HeizungZone_5_Regler_X', 'ST110_VARExtr_3_HeizungZone_5_Regler_Y', 'ST110_VARExtr_3_HeizungZone_5_SollTemp', 'ST110_VARExtr_3_HeizungZone_6_ActEffectPower', 'ST110_VARExtr_3_HeizungZone_6_Konfig', 'ST110_VARExtr_3_HeizungZone_6_Regler_X', 'ST110_VARExtr_3_HeizungZone_6_Regler_Y', 'ST110_VARExtr_3_HeizungZone_6_SollTemp', 'ST110_VARExtr_3_HeizungZone_7_ActEffectPower', 'ST110_VARExtr_3_HeizungZone_7_Konfig', 'ST110_VARExtr_3_HeizungZone_7_Regler_X', 'ST110_VARExtr_3_HeizungZone_7_Regler_Y', 'ST110_VARExtr_3_HeizungZone_7_SollTemp', 'ST110_VARExtr_3_HeizungZone_8_ActEffectPower', 'ST110_VARExtr_3_HeizungZone_8_Konfig', 'ST110_VARExtr_3_HeizungZone_8_Regler_X', 'ST110_VARExtr_3_HeizungZone_8_Regler_Y', 'ST110_VARExtr_3_HeizungZone_8_SollTemp', 'ST110_VARExtr_3_Massetemperatur', 'ST110_VAREx_0_Dos_0_IstLMGewicht', 'ST110_VAREx_0_GesamtDS', 'ST110_VAREx_0_MischDicht', 'ST110_VAREx_0_RegelungEin', 'ST110_VAREx_0_SDickeIst', 'ST110_VAREx_0_SDickeProz', 'ST110_VAREx_0_SDickeSoll', 'ST110_VAREx_0_SollDS', 'ST110_VAREx_0_SollLM', 'ST110_VAREx_1_DissipationPwr', 'ST110_VAREx_1_Dos_0_IstLMGewicht', 'ST110_VAREx_1_Dos_0_Ventil', 'ST110_VAREx_1_Dos_1_IstFoerderrate', 'ST110_VAREx_1_Dos_2_IstAnteil', 'ST110_VAREx_1_Dos_2_IstDrehzahl', 'ST110_VAREx_1_Dos_2_IstDurchsatz', 'ST110_VAREx_1_Dos_2_IstFoerderrate', 'ST110_VAREx_1_Dos_2_Materialvorwahl', 'ST110_VAREx_1_Dos_2_SchuettDichte', 'ST110_VAREx_1_Dos_2_SollAnteil', 'ST110_VAREx_1_Dos_2_SollDichte', 'ST110_VAREx_1_Dos_2_SollStatus', 'ST110_VAREx_1_Dos_2_Ventil', 'ST110_VAREx_1_Dos_3_IstAnteil', 'ST110_VAREx_1_Dos_3_IstDrehzahl', 'ST110_VAREx_1_Dos_3_IstDurchsatz', 'ST110_VAREx_1_Dos_3_IstFoerderrate', 'ST110_VAREx_1_Dos_3_Materialvorwahl', 'ST110_VAREx_1_Dos_3_SchuettDichte', 'ST110_VAREx_1_Dos_3_SollAnteil', 'ST110_VAREx_1_Dos_3_SollDichte', 'ST110_VAREx_1_Dos_3_SollStatus', 'ST110_VAREx_1_Dos_3_Ventil', 'ST110_VAREx_1_Dos_4_IstAnteil', 'ST110_VAREx_1_Dos_4_IstDrehzahl', 'ST110_VAREx_1_Dos_4_IstDurchsatz', 'ST110_VAREx_1_Dos_4_IstFoerderrate', 'ST110_VAREx_1_Dos_4_Materialvorwahl', 'ST110_VAREx_1_Dos_4_SchuettDichte', 'ST110_VAREx_1_Dos_4_SollAnteil', 'ST110_VAREx_1_Dos_4_SollDichte', 'ST110_VAREx_1_Dos_4_SollStatus', 'ST110_VAREx_1_Dos_4_Ventil', 'ST110_VAREx_1_Dos_5_IstAnteil', 'ST110_VAREx_1_Dos_5_IstDrehzahl', 'ST110_VAREx_1_Dos_5_IstDurchsatz', 'ST110_VAREx_1_Dos_5_IstFoerderrate', 'ST110_VAREx_1_Dos_5_Materialvorwahl', 'ST110_VAREx_1_Dos_5_SchuettDichte', 'ST110_VAREx_1_Dos_5_SollAnteil', 'ST110_VAREx_1_Dos_5_SollDichte', 'ST110_VAREx_1_Dos_5_SollStatus', 'ST110_VAREx_1_Dos_5_Ventil', 'ST110_VAREx_1_Foerderrate', 'ST110_VAREx_1_GesamtDS', 'ST110_VAREx_1_MischDicht', 'ST110_VAREx_1_MischerMotor', 'ST110_VAREx_1_RegelungEin', 'ST110_VAREx_1_SDickeIst', 'ST110_VAREx_1_SDickeProz', 'ST110_VAREx_1_SDickeSoll', 'ST110_VAREx_1_SollLM', 'ST110_VAREx_2_DissipationPwr', 'ST110_VAREx_2_Dos_0_IstLMGewicht', 'ST110_VAREx_2_Dos_0_Ventil', 'ST110_VAREx_2_Dos_1_IstFoerderrate', 'ST110_VAREx_2_Dos_2_IstAnteil', 'ST110_VAREx_2_Dos_2_IstDrehzahl', 'ST110_VAREx_2_Dos_2_IstDurchsatz', 'ST110_VAREx_2_Dos_2_IstFoerderrate', 'ST110_VAREx_2_Dos_2_Materialvorwahl', 'ST110_VAREx_2_Dos_2_SchuettDichte', 'ST110_VAREx_2_Dos_2_SollAnteil', 'ST110_VAREx_2_Dos_2_SollDichte', 'ST110_VAREx_2_Dos_2_SollStatus', 'ST110_VAREx_2_Dos_2_Ventil', 'ST110_VAREx_2_Dos_3_IstAnteil', 'ST110_VAREx_2_Dos_3_IstDrehzahl', 'ST110_VAREx_2_Dos_3_IstDurchsatz', 'ST110_VAREx_2_Dos_3_IstFoerderrate', 'ST110_VAREx_2_Dos_3_Materialvorwahl', 'ST110_VAREx_2_Dos_3_SchuettDichte', 'ST110_VAREx_2_Dos_3_SollAnteil', 'ST110_VAREx_2_Dos_3_SollDichte', 'ST110_VAREx_2_Dos_3_SollStatus', 'ST110_VAREx_2_Dos_3_Ventil', 'ST110_VAREx_2_Dos_4_IstAnteil', 'ST110_VAREx_2_Dos_4_IstDrehzahl', 'ST110_VAREx_2_Dos_4_IstDurchsatz', 'ST110_VAREx_2_Dos_4_IstFoerderrate', 'ST110_VAREx_2_Dos_4_Materialvorwahl', 'ST110_VAREx_2_Dos_4_SchuettDichte', 'ST110_VAREx_2_Dos_4_SollAnteil', 'ST110_VAREx_2_Dos_4_SollDichte', 'ST110_VAREx_2_Dos_4_SollStatus', 'ST110_VAREx_2_Dos_4_Ventil', 'ST110_VAREx_2_Dos_5_IstAnteil', 'ST110_VAREx_2_Dos_5_IstDrehzahl', 'ST110_VAREx_2_Dos_5_IstDurchsatz', 'ST110_VAREx_2_Dos_5_IstFoerderrate', 'ST110_VAREx_2_Dos_5_Materialvorwahl', 'ST110_VAREx_2_Dos_5_SchuettDichte', 'ST110_VAREx_2_Dos_5_SollAnteil', 'ST110_VAREx_2_Dos_5_SollDichte', 'ST110_VAREx_2_Dos_5_SollStatus', 'ST110_VAREx_2_Dos_5_Ventil', 'ST110_VAREx_2_Foerderrate', 'ST110_VAREx_2_GesamtDS', 'ST110_VAREx_2_MischDicht', 'ST110_VAREx_2_MischerMotor', 'ST110_VAREx_2_RegelungEin', 'ST110_VAREx_2_SDickeIst', 'ST110_VAREx_2_SDickeProz', 'ST110_VAREx_2_SDickeSoll', 'ST110_VAREx_2_SollLM', 'ST110_VAREx_3_DissipationPwr', 'ST110_VAREx_3_Dos_0_IstLMGewicht', 'ST110_VAREx_3_Dos_0_Ventil', 'ST110_VAREx_3_Dos_1_IstFoerderrate', 'ST110_VAREx_3_Dos_2_IstAnteil', 'ST110_VAREx_3_Dos_2_IstDrehzahl', 'ST110_VAREx_3_Dos_2_IstDurchsatz', 'ST110_VAREx_3_Dos_2_IstFoerderrate', 'ST110_VAREx_3_Dos_2_Materialvorwahl', 'ST110_VAREx_3_Dos_2_SchuettDichte', 'ST110_VAREx_3_Dos_2_SollAnteil', 'ST110_VAREx_3_Dos_2_SollDichte', 'ST110_VAREx_3_Dos_2_SollStatus', 'ST110_VAREx_3_Dos_2_Ventil', 'ST110_VAREx_3_Dos_3_IstAnteil', 'ST110_VAREx_3_Dos_3_IstDrehzahl', 'ST110_VAREx_3_Dos_3_IstDurchsatz', 'ST110_VAREx_3_Dos_3_IstFoerderrate', 'ST110_VAREx_3_Dos_3_Materialvorwahl', 'ST110_VAREx_3_Dos_3_SchuettDichte', 'ST110_VAREx_3_Dos_3_SollAnteil', 'ST110_VAREx_3_Dos_3_SollDichte', 'ST110_VAREx_3_Dos_3_SollStatus', 'ST110_VAREx_3_Dos_3_Ventil', 'ST110_VAREx_3_Dos_4_IstAnteil', 'ST110_VAREx_3_Dos_4_IstDrehzahl', 'ST110_VAREx_3_Dos_4_IstDurchsatz', 'ST110_VAREx_3_Dos_4_IstFoerderrate', 'ST110_VAREx_3_Dos_4_Materialvorwahl', 'ST110_VAREx_3_Dos_4_SchuettDichte', 'ST110_VAREx_3_Dos_4_SollAnteil', 'ST110_VAREx_3_Dos_4_SollDichte', 'ST110_VAREx_3_Dos_4_SollStatus', 'ST110_VAREx_3_Dos_4_Ventil', 'ST110_VAREx_3_Dos_5_IstAnteil', 'ST110_VAREx_3_Dos_5_IstDrehzahl', 'ST110_VAREx_3_Dos_5_IstDurchsatz', 'ST110_VAREx_3_Dos_5_IstFoerderrate', 'ST110_VAREx_3_Dos_5_Materialvorwahl', 'ST110_VAREx_3_Dos_5_SchuettDichte', 'ST110_VAREx_3_Dos_5_SollAnteil', 'ST110_VAREx_3_Dos_5_SollDichte', 'ST110_VAREx_3_Dos_5_SollStatus', 'ST110_VAREx_3_Dos_5_Ventil', 'ST110_VAREx_3_Foerderrate', 'ST110_VAREx_3_GesamtDS', 'ST110_VAREx_3_MischDicht', 'ST110_VAREx_3_MischerMotor', 'ST110_VAREx_3_RegelungEin', 'ST110_VAREx_3_SDickeIst', 'ST110_VAREx_3_SDickeProz', 'ST110_VAREx_3_SDickeSoll', 'ST110_VAREx_3_SollLM', 'ST110_VARGeblaese_1_Auslastung', 'ST110_VARGeblaese_2_Auslastung', 'ST110_VARGeblaese_3_Auslastung', 'ST110_VARIBC_1_Ist_n_Calc', 'ST110_VARIBC_1_Soll_n_Visu', 'ST110_VARIBC_2_Ist_n_Calc', 'ST110_VARIBC_2_Soll_n_Visu', 'ST110_VARIBC_3_Ist_n_Calc', 'ST110_VARIBC_3_Soll_n_Visu', 'ST110_VARKorbBreiteIstBreite', 'ST110_VARKorb_dIst_d', 'ST110_VARKorb_dSoll_d', 'ST110_VARKuehlGeraet_1_IstTemp', 'ST110_VARKuehlGeraet_1_SollTemp', 'ST110_VARKuehlGeraet_2_IstTemp', 'ST110_VARKuehlGeraet_2_SollTemp', 'ST110_VARKuehlGeraet_3_IstTemp', 'ST110_VARKuehlGeraet_3_SollTemp', 'ST110_VARProfilCmdBefehl', 'ST110_VARProfilCmdMessung', 'ST110_VARProfilCmdReglerEin', 'ST110_VARProfilCmdReglerStop', 'ST110_VARTrichter_10_Vorwahl', 'ST110_VARTrichter_11_Vorwahl', 'ST110_VARTrichter_15_Vorwahl', 'ST110_VARTrichter_16_Vorwahl', 'ST110_VARTrichter_17_Vorwahl', 'ST110_VARTrichter_18_Vorwahl', 'ST110_VARTrichter_1_Vorwahl', 'ST110_VARTrichter_2_Vorwahl', 'ST110_VARTrichter_3_Vorwahl', 'ST110_VARTrichter_4_Vorwahl', 'ST110_VARTrichter_8_Vorwahl', 'ST110_VARTrichter_9_Vorwahl', 'ST110_VARUSBRegelungIstwert', 'ST110_VARUSBRegelungPosKlappe', 'ST110_VARUSBRegelungRegelungEin', 'ST110_VARUSBRegelungSollwert', 'ST112_VARAbzug_1_IstEin', 'ST112_VARAbzug_1_IstZu', 'ST112_VARAbzug_1_SollSpeed', 'ST112_VARHoursCntAbzugEin', 'ST112_VARHoursCntAbzugWartung', 'ST112_VARReversierungSollEin', 'ST112_VARReversierungSollSpeed', 'ST112_VARReversierungSollWinkel', 'ST112_VARReversierungZeit', 'ST112_VARSeitenfuehrungUntenAufVisu', 'ST112_VARSeitenfuehrungUntenZuVisu', 'ST112_VARWendestangenSollwert180O', 'ST112_VARWendestangenSollwert180U', 'ST112_VARWendestangenSollwert360O', 'ST112_VARWendestangenSollwert360U', 'ST113_VARActLen', 'ST113_VARCdEnable', 'ST113_VARCdSpeedHMI', 'ST113_VARCdSpSpeed', 'ST113_VARCdSpTens', 'ST113_VARCdTensVis', 'ST113_VARClpEnable', 'ST113_VARClpNum', 'ST113_VARClpReductVal', 'ST113_VARClpTens', 'ST113_VARCntStart', 'ST113_VARDiaNextRollRc', 'ST113_VARDiaRollPanel', 'ST113_VARDiaRollRc', 'ST113_VARDiaShaft', 'ST113_VARGapDiff', 'ST113_VARGapEnable', 'ST113_VARGapMax', 'ST113_VARGapMin', 'ST113_VARGesamtZeit', 'ST113_VARInitLayOnPress', 'ST113_VARLmpRun', 'ST113_VARPivotLoadCmd', 'ST113_VARPnCloseCmd', 'ST113_VARPnEdgeCmd', 'ST113_VARPnSpeedHMI', 'ST113_VARPnSpSpeed', 'ST113_VARPnSpTens', 'ST113_VARPnTensVis', 'ST113_VARPrevLen', 'ST113_VARRemainingLen', 'ST113_VARRemainingTimeVis', 'ST113_VARRotationReverse', 'ST113_VARSwdSpeedHMI', 'ST113_VARSwdSpSpeed', 'ST113_VARTagZeit', 'ST113_VARTapeNum', 'ST113_VARTapeReductVal', 'ST113_VARTargetLenActRoll', 'ST113_VARTargetLenNextRoll', 'ST113_VARTensPlusEnable', 'ST113_VARTensPlusSp', 'ST113_VARTotalLen', 'ST113_VARTotalRolls', 'ST113_VARWdCloseCmd', 'ST113_VARWdSpeedHMI', 'ST113_VARWdSpSpeed', 'ST113_VARWdSpTens', 'ST113_VARWdTapeNum', 'ST113_VARWdTapeReductVal', 'ST113_VARWdTensVis', 'ST114_VARActLen', 'ST114_VARCdEnable', 'ST114_VARCdSpeedHMI', 'ST114_VARCdSpSpeed', 'ST114_VARCdSpTens', 'ST114_VARCdTensVis', 'ST114_VARClpEnable', 'ST114_VARClpNum', 'ST114_VARClpReductVal', 'ST114_VARClpTens', 'ST114_VARCntStart', 'ST114_VARDiaNextRollRc', 'ST114_VARDiaRollPanel', 'ST114_VARDiaRollRc', 'ST114_VARDiaShaft', 'ST114_VARGapDiff', 'ST114_VARGapEnable', 'ST114_VARGapMax', 'ST114_VARGapMin', 'ST114_VARGesamtZeit', 'ST114_VARInitLayOnPress', 'ST114_VARLmpRun', 'ST114_VARPrevLen', 'ST114_VARRemainingLen', 'ST114_VARRemainingTimeVis', 'ST114_VARRotationReverse', 'ST114_VARSwdSpeedHMI', 'ST114_VARSwdSpSpeed', 'ST114_VARTagZeit', 'ST114_VARTapeNum', 'ST114_VARTapeReductVal', 'ST114_VARTargetLenActRoll', 'ST114_VARTargetLenNextRoll', 'ST114_VARTensPlusEnable', 'ST114_VARTensPlusSp', 'ST114_VARTotalLen', 'ST114_VARTotalRolls', 'ST114_VARWdCloseCmd', 'ST114_VARWdSpeedHMI', 'ST114_VARWdSpSpeed', 'ST114_VARWdSpTens', 'ST114_VARWdTapeNum', 'ST114_VARWdTapeReductVal', 'ST114_VARWdTensVis']\n",
            "(226536, 470)\n",
            "(470,)\n"
          ],
          "name": "stdout"
        }
      ]
    },
    {
      "cell_type": "code",
      "metadata": {
        "id": "FJzTdWcqxjkj"
      },
      "source": [
        "del df['Datum']\n",
        "columns.remove('Datum')"
      ],
      "execution_count": 3,
      "outputs": []
    },
    {
      "cell_type": "code",
      "metadata": {
        "id": "6sRjPPouLyhU"
      },
      "source": [
        "def min_max_scaling(x):\r\n",
        "    x_np = np.asarray(x)\r\n",
        "    return (x_np - x_np.min(axis = 0)) / (x_np.max(axis = 0) - x_np.min(axis = 0))"
      ],
      "execution_count": 4,
      "outputs": []
    },
    {
      "cell_type": "code",
      "metadata": {
        "id": "_Diw2Gds6vSY",
        "colab": {
          "base_uri": "https://localhost:8080/"
        },
        "outputId": "b4f3a6d2-acfd-44f9-da6c-cfce29772f86"
      },
      "source": [
        "# target_index = columns.index('ST110_VAREx_0_SDickeIst') \n",
        "target_index = columns.index('ST110_VAREx_0_RegelungEin') \n",
        "print(target_index)"
      ],
      "execution_count": 5,
      "outputs": [
        {
          "output_type": "stream",
          "text": [
            "156\n"
          ],
          "name": "stdout"
        }
      ]
    },
    {
      "cell_type": "code",
      "metadata": {
        "id": "bSOLRgjGTS1Q",
        "colab": {
          "base_uri": "https://localhost:8080/"
        },
        "outputId": "b10b3dc6-e1c4-4d48-d21d-d1a19209cf43"
      },
      "source": [
        "X = np.asarray(df)[:, :]\n",
        "Y = np.asarray(df)[:, target_index]\n",
        "\n",
        "print(\"X.shape: \", X.shape)\n",
        "print(\"Y.shape: \", Y.shape)"
      ],
      "execution_count": 6,
      "outputs": [
        {
          "output_type": "stream",
          "text": [
            "X.shape:  (226536, 469)\n",
            "Y.shape:  (226536,)\n"
          ],
          "name": "stdout"
        }
      ]
    },
    {
      "cell_type": "code",
      "metadata": {
        "id": "EF6ybNNGxoxp"
      },
      "source": [
        "null_row = []\n",
        "\n",
        "for i in range(len(X)):\n",
        "    for j in range(len(columns)):\n",
        "        if pd.isnull(X[i,j]):\n",
        "            null_row.append(i)"
      ],
      "execution_count": 7,
      "outputs": []
    },
    {
      "cell_type": "code",
      "metadata": {
        "id": "wOpU91xY2sNs",
        "colab": {
          "base_uri": "https://localhost:8080/"
        },
        "outputId": "b78ea9bc-055f-4d91-a47a-9989ed4e6fca"
      },
      "source": [
        "null_row = sorted(list(set(null_row)))\n",
        "\n",
        "print(null_row)\n",
        "print(len(null_row))"
      ],
      "execution_count": 8,
      "outputs": [
        {
          "output_type": "stream",
          "text": [
            "[18398, 18399, 18400, 18454, 20979, 24019, 24035, 58210, 58211, 58212, 62021, 62022, 62023, 62024, 62025, 62026, 62027, 62028, 62029, 70978, 71524, 71576, 78210, 82932, 82933, 82934, 87052, 87053, 91158, 96208, 96209, 96210, 96211, 96212, 96213, 96214, 96215, 96216, 96217, 96218, 96219, 96220, 96221, 96222, 96223, 96224, 96225, 96226, 96227, 96228, 96229, 96230, 96231, 96232, 96233, 96234, 96235, 96236, 96237, 96238, 96239, 96240, 96241, 96242, 96243, 96244, 96245, 96246, 96247, 96248, 96249, 96250, 96251, 96252, 96253, 96254, 96255, 96256, 96257, 96258, 96259, 96260, 96261, 96262, 96263, 96264, 96265, 96266, 96267, 96268, 96269, 96270, 96271, 96272, 96273, 96274, 96275, 96276, 96277, 96278, 96279, 96280, 96281, 96282, 96283, 96284, 96285, 96286, 96287, 96288, 96289, 96290, 96291, 96292, 96293, 96294, 96295, 96296, 96297, 96298, 96299, 96300, 96301, 96302, 96303, 96304, 96305, 96306, 96307, 96308, 96309, 96310, 96311, 96312, 96313, 96314, 96315, 96316, 96317, 96318, 96319, 96320, 96321, 96322, 96323, 96324, 96325, 96326, 96327, 96328, 96329, 96330, 96331, 96332, 96333, 96334, 96335, 96336, 96337, 96338, 96339, 96340, 96341, 96342, 96343, 96344, 96345, 96346, 96347, 96348, 96349, 96350, 96351, 96352, 96353, 96354, 96355, 96356, 96357, 96358, 96359, 96360, 96361, 96362, 96363, 96364, 96365, 96366, 96367, 96368, 96369, 96370, 96371, 96372, 96373, 96374, 96375, 96376, 96377, 96378, 96379, 96380, 96381, 96382, 96383, 96384, 96385, 96386, 96387, 96388, 96389, 96390, 96391, 96392, 96393, 96394, 96395, 96396, 96397, 96398, 96399, 96400, 96401, 96402, 96403, 96404, 96405, 96406, 96407, 96408, 96409, 96410, 96411, 96412, 96413, 96414, 96415, 96416, 96417, 96418, 96419, 96420, 96421, 96422, 96423, 96424, 96425, 96426, 96427, 96428, 96429, 96430, 96431, 96432, 96433, 96434, 96435, 96436, 96437, 96438, 96439, 96440, 96441, 96442, 96443, 96444, 96445, 96446, 96447, 96448, 96449, 96450, 96451, 96452, 96453, 96454, 96455, 96456, 96457, 96458, 96459, 96460, 96461, 96462, 96463, 96464, 96465, 96466, 96467, 96468, 96469, 96470, 96471, 96472, 96473, 96474, 96475, 96476, 96477, 96478, 96479, 96480, 96481, 96482, 96483, 96484, 96485, 96486, 96487, 96488, 96489, 96490, 96491, 96492, 96493, 96494, 96495, 96496, 96497, 96498, 96499, 96500, 96501, 96502, 96503, 96504, 96505, 96506, 96507, 96508, 96509, 96510, 96511, 96512, 96513, 96514, 96515, 96516, 96517, 96518, 96519, 96520, 96521, 96522, 96523, 96524, 96525, 96526, 96527, 96528, 96529, 96530, 96531, 96532, 96533, 96534, 96535, 96536, 96537, 96538, 96539, 96540, 96541, 96542, 96543, 96544, 96545, 96546, 96547, 96548, 96549, 96550, 96551, 96552, 96553, 96554, 96555, 96556, 96557, 96558, 96559, 96560, 96561, 96562, 96563, 96564, 96565, 96566, 96567, 96568, 96569, 96570, 96571, 96572, 96573, 96574, 96575, 96576, 96577, 96578, 96579, 96580, 96581, 96582, 96583, 96584, 96585, 96586, 96587, 96588, 96589, 96590, 96591, 96592, 96593, 96594, 96595, 96596, 96597, 96598, 96599, 96600, 96601, 96602, 96603, 96604, 96605, 96606, 96607, 96608, 96609, 96610, 96611, 96612, 96613, 96614, 96615, 96616, 96617, 96618, 96619, 96620, 96621, 96622, 96623, 96624, 96625, 96626, 96627, 96628, 96629, 96630, 96631, 96632, 96633, 96634, 96635, 96636, 96637, 96638, 96639, 96640, 96641, 96642, 96643, 96644, 96645, 96646, 96647, 96648, 96649, 96650, 96651, 96652, 96653, 96654, 96655, 96656, 96657, 96658, 96659, 96660, 96661, 96662, 96663, 96664, 96665, 96666, 96667, 96668, 96669, 96670, 96671, 96672, 96673, 96674, 96675, 96676, 96677, 96678, 96679, 96680, 96681, 96682, 96683, 96684, 96685, 96686, 96687, 96688, 96689, 96690, 96691, 96692, 96693, 96694, 96695, 96696, 96697, 96698, 96699, 96700, 96701, 96702, 96703, 96704, 96705, 96706, 96707, 96708, 96709, 96710, 96711, 96712, 96713, 96714, 96715, 96716, 96717, 96718, 96719, 96720, 96721, 96722, 96723, 96724, 96725, 96726, 96727, 96728, 96729, 96730, 96731, 96732, 96733, 96734, 96735, 96736, 96737, 96738, 96739, 96740, 96741, 96742, 96743, 96744, 96745, 96746, 96747, 96748, 96749, 96750, 96751, 96752, 96753, 96754, 96755, 96756, 96757, 96758, 96759, 96760, 96761, 96762, 96763, 96764, 96765, 96766, 96767, 96768, 96769, 96770, 96771, 96772, 96773, 96774, 96775, 96776, 96777, 96778, 96779, 96780, 96781, 96782, 96783, 96784, 96785, 96786, 96787, 96788, 96789, 96790, 96791, 96792, 96793, 96794, 96795, 96796, 96797, 96798, 96799, 96800, 96801, 96802, 96803, 96804, 96805, 96806, 96807, 96808, 96809, 96810, 96811, 96812, 96813, 96814, 96815, 96816, 96817, 96818, 96819, 96820, 96821, 96822, 96823, 96824, 96825, 96826, 96827, 96828, 96829, 96830, 96831, 96832, 96833, 96834, 96835, 96836, 96837, 96838, 96839, 96840, 96841, 96842, 96843, 96844, 96845, 96846, 96847, 96848, 96849, 96850, 96851, 96852, 96853, 96854, 96855, 96856, 96857, 96858, 96859, 96860, 96861, 96862, 96863, 96864, 96865, 96866, 96867, 96868, 96869, 96870, 96871, 96872, 96873, 96874, 96875, 96876, 96877, 96878, 96879, 96880, 96881, 96882, 96883, 96884, 96885, 96886, 96887, 96888, 96889, 96890, 96891, 96892, 96893, 96894, 96895, 96896, 96897, 96898, 96899, 96900, 96901, 96902, 96903, 96904, 96905, 96906, 96907, 96908, 96909, 96910, 96911, 96912, 96913, 96914, 96915, 96916, 96917, 96918, 96919, 96920, 96921, 96922, 96923, 96924, 96925, 96926, 96927, 96928, 96929, 96930, 96931, 96932, 96933, 96934, 96935, 96936, 96937, 96938, 96939, 96940, 96941, 96942, 96943, 96944, 96945, 96946, 96947, 96948, 96949, 96950, 96951, 96952, 96953, 96954, 96955, 96956, 96957, 96958, 96959, 96960, 96961, 96962, 96963, 96964, 96965, 96966, 96967, 96968, 96969, 96970, 96971, 96972, 96973, 96974, 96975, 96976, 96977, 96978, 96979, 96980, 96981, 96982, 96983, 96984, 96985, 96986, 96987, 96988, 96989, 96990, 96991, 96992, 96993, 96994, 96995, 96996, 96997, 96998, 96999, 97000, 97001, 97002, 97003, 97004, 97005, 97006, 97007, 97008, 97009, 97010, 97011, 97012, 97013, 97014, 97015, 97016, 97017, 97018, 97019, 97020, 97021, 97022, 97023, 97024, 97025, 97026, 97027, 97028, 97029, 97030, 97031, 97032, 97033, 97034, 97035, 97036, 97037, 97038, 97039, 97040, 97041, 97042, 97043, 97044, 97045, 97046, 97047, 97048, 97049, 97050, 97051, 97052, 97053, 97054, 97055, 97056, 97057, 97058, 97059, 97060, 97061, 97062, 97063, 97064, 97065, 97066, 97067, 97068, 97069, 97070, 97071, 97072, 97073, 97074, 97075, 97076, 97077, 97078, 97079, 97080, 97081, 97082, 97083, 97084, 97085, 97086, 97087, 97088, 97089, 97090, 97091, 97092, 97093, 97094, 97095, 97096, 97097, 97098, 97099, 97100, 97101, 97102, 97103, 97104, 97105, 97106, 97107, 97108, 97109, 97110, 97111, 97112, 97113, 97114, 97115, 97116, 97117, 97118, 97119, 97120, 97121, 97122, 97123, 97124, 97125, 97126, 97127, 97128, 97129, 97130, 97131, 97132, 97133, 97134, 97135, 97136, 97137, 97138, 97139, 97140, 97141, 97142, 97143, 97144, 97145, 97146, 97147, 97148, 97149, 97150, 97151, 97152, 97153, 97154, 97155, 97156, 97157, 97158, 97159, 97160, 97161, 97162, 97163, 97164, 97165, 97166, 97167, 97168, 97169, 97170, 97171, 97172, 97173, 97174, 97175, 97176, 97177, 97178, 97179, 97180, 97181, 97182, 97183, 97184, 97185, 97186, 97187, 97188, 97189, 97190, 97191, 97192, 97193, 97194, 97195, 97196, 97197, 97198, 97199, 97200, 97201, 97202, 97203, 97204, 97205, 97206, 97207, 97208, 97209, 97210, 97211, 97212, 97213, 97214, 97215, 97216, 97217, 97218, 97219, 97220, 97221, 97222, 97223, 97224, 97225, 97226, 97227, 97228, 97229, 97230, 97231, 97232, 97233, 97234, 97235, 97236, 97237, 97238, 97239, 97240, 97241, 97242, 97243, 97244, 97245, 97246, 97247, 121843, 121844, 121845, 122263, 122264, 126214, 126225, 134428, 137345, 139694, 139765, 139783, 147181, 147182, 147183, 150889, 150890, 153795, 153796, 153797, 157819, 166997, 178617, 178618, 178619, 186552, 186553, 186577, 190488, 204148, 204149, 204150, 209490]\n",
            "1102\n"
          ],
          "name": "stdout"
        }
      ]
    },
    {
      "cell_type": "code",
      "metadata": {
        "id": "pfhuRCa4fqo8"
      },
      "source": [
        "seq_length = 50\n",
        "predict_length = 10\n",
        "input_columns = len(columns)\n",
        "\n",
        "num_Data = 1\n",
        "\n",
        "if null_row[0] - 1 > seq_length + predict_length:\n",
        "    X0 = X[:null_row[0] - 1, :]\n",
        "    Y0 = Y[:null_row[0] - 1]\n",
        "\n",
        "for i in range(1, len(null_row)):\n",
        "    if null_row[i] - null_row[i-1] - 1 > seq_length + predict_length:\n",
        "        locals()['X{}'.format(num_Data)] = X[null_row[i-1] + 1 : null_row[i] - 1, :]\n",
        "        locals()['Y{}'.format(num_Data)] = Y[null_row[i-1] + 1 : null_row[i] - 1]\n",
        "        num_Data += 1\n",
        "\n",
        "# for i in range(num_Data):\n",
        "#     print('X{} -> '.format(i), 'The number of null value: ', pd.isnull(locals()['X{}'.format(i)]).sum().sum())\n",
        "#     print('Y{} -> '.format(i), 'The number of null value: ', pd.isnull(locals()['Y{}'.format(i)]).sum().sum())"
      ],
      "execution_count": 9,
      "outputs": []
    },
    {
      "cell_type": "code",
      "metadata": {
        "id": "eYOM7PTnImBa",
        "colab": {
          "base_uri": "https://localhost:8080/"
        },
        "outputId": "b4d23a92-9875-4e5e-92bc-398ffcdf031e"
      },
      "source": [
        "selected_feature_idx = [130, 156, 157, 253, 274, 278, 288, 465]\n",
        "# selected_feature_idx = [36, 46, 130, 156, 157, 159, 253, 261, 274, 278, 288, 465, 468]\n",
        "# selected_feature_idx = [111, 364, 435]\n",
        "\n",
        "x = min_max_scaling(X0[:, selected_feature_idx])\n",
        "y = min_max_scaling(Y0)\n",
        "\n",
        "dataX = []\n",
        "dataY = []\n",
        "for i in range(0, len(y) - seq_length - predict_length + 1):\n",
        "    _x = x[i : i + seq_length]\n",
        "    _y = y[i + seq_length : i + seq_length + predict_length]\n",
        "    dataX.append(_x)\n",
        "    dataY.append(_y)\n",
        "\n",
        "dataX = np.array(dataX)\n",
        "dataY = np.array(dataY)\n",
        "\n",
        "trainX, testX, trainY, testY = train_test_split(dataX, dataY, test_size=0.3, shuffle = False)\n",
        "trainY = tf.expand_dims(trainY,2)\n",
        "testY = tf.expand_dims(testY,2)\n",
        "\n",
        "print(trainX.shape)\n",
        "print(trainY.shape)\n",
        "print(testX.shape)\n",
        "print(testY.shape)"
      ],
      "execution_count": 10,
      "outputs": [
        {
          "output_type": "stream",
          "text": [
            "(12836, 50, 8)\n",
            "(12836, 10, 1)\n",
            "(5502, 50, 8)\n",
            "(5502, 10, 1)\n"
          ],
          "name": "stdout"
        }
      ]
    },
    {
      "cell_type": "code",
      "metadata": {
        "colab": {
          "base_uri": "https://localhost:8080/"
        },
        "id": "KMQU0giXH0Zh",
        "outputId": "aa6a8cb7-3e6e-4f8b-ea3e-7e4f3c900731"
      },
      "source": [
        "select_columns = []\r\n",
        "for i in selected_feature_idx:\r\n",
        "  select_columns.append(columns[i])\r\n",
        "select_columns\r\n"
      ],
      "execution_count": 11,
      "outputs": [
        {
          "output_type": "execute_result",
          "data": {
            "text/plain": [
              "['ST110_VARExtr_3_HeizungZone_4_Regler_Y',\n",
              " 'ST110_VAREx_0_RegelungEin',\n",
              " 'ST110_VAREx_0_SDickeIst',\n",
              " 'ST110_VAREx_2_Dos_5_Materialvorwahl',\n",
              " 'ST110_VAREx_3_Dos_2_IstDurchsatz',\n",
              " 'ST110_VAREx_3_Dos_2_SollAnteil',\n",
              " 'ST110_VAREx_3_Dos_3_SollAnteil',\n",
              " 'ST114_VARWdSpTens']"
            ]
          },
          "metadata": {
            "tags": []
          },
          "execution_count": 11
        }
      ]
    },
    {
      "cell_type": "code",
      "metadata": {
        "id": "O1-GgageY8q8",
        "colab": {
          "base_uri": "https://localhost:8080/"
        },
        "outputId": "600f6a52-7b7c-46aa-8a7f-1522b59c4c3f"
      },
      "source": [
        "# LSTM 모델 / LSTM Model\n",
        "model = Sequential([\n",
        "    LSTM(64, input_shape = (seq_length, len(selected_feature_idx)), return_sequences=True, activation = 'sigmoid'),\n",
        "    Dropout(0.5),\n",
        "    LSTM(64, return_sequences=False, activation = 'sigmoid'),\n",
        "    # Dense(128, activation = 'relu'),\n",
        "    # LSTM(8, return_sequences=False, activation = 'sigmoid'),\n",
        "    Dense(predict_length, activation = 'sigmoid')\n",
        "])\n",
        "\n",
        "model.summary()\n",
        "\n",
        "#kernel_initializer='he_uniform'"
      ],
      "execution_count": 15,
      "outputs": [
        {
          "output_type": "stream",
          "text": [
            "Model: \"sequential\"\n",
            "_________________________________________________________________\n",
            "Layer (type)                 Output Shape              Param #   \n",
            "=================================================================\n",
            "lstm (LSTM)                  (None, 50, 64)            18688     \n",
            "_________________________________________________________________\n",
            "dropout (Dropout)            (None, 50, 64)            0         \n",
            "_________________________________________________________________\n",
            "lstm_1 (LSTM)                (None, 64)                33024     \n",
            "_________________________________________________________________\n",
            "dense (Dense)                (None, 10)                650       \n",
            "=================================================================\n",
            "Total params: 52,362\n",
            "Trainable params: 52,362\n",
            "Non-trainable params: 0\n",
            "_________________________________________________________________\n"
          ],
          "name": "stdout"
        }
      ]
    },
    {
      "cell_type": "code",
      "metadata": {
        "id": "c1I3WPrMZ743",
        "colab": {
          "base_uri": "https://localhost:8080/"
        },
        "outputId": "21cbf629-822b-4b1a-c11a-f7a75273336f"
      },
      "source": [
        "# 모델 학습 설정 및 진행 / Model Training options and Progress\n",
        "from keras.callbacks import EarlyStopping, ModelCheckpoint\n",
        "\n",
        "early_stopping = EarlyStopping(monitor='loss', patience=5)\n",
        "\n",
        "adam = keras.optimizers.Adam(lr=0.001, beta_1=0.9, beta_2=0.999)\n",
        "model.compile(loss='binary_crossentropy', optimizer = adam, metrics=[\"mse\"])\n",
        "history = model.fit(trainX, trainY, batch_size = 100, epochs = 10, validation_split=0.1, callbacks=[early_stopping])"
      ],
      "execution_count": 16,
      "outputs": [
        {
          "output_type": "stream",
          "text": [
            "Epoch 1/10\n",
            "116/116 [==============================] - 14s 100ms/step - loss: 0.4545 - mse: 0.1423 - val_loss: 0.4418 - val_mse: 0.1343\n",
            "Epoch 2/10\n",
            "116/116 [==============================] - 11s 93ms/step - loss: 0.3594 - mse: 0.1034 - val_loss: 0.4109 - val_mse: 0.1270\n",
            "Epoch 3/10\n",
            "116/116 [==============================] - 11s 92ms/step - loss: 0.2724 - mse: 0.0783 - val_loss: 0.2255 - val_mse: 0.0605\n",
            "Epoch 4/10\n",
            "116/116 [==============================] - 11s 92ms/step - loss: 0.1378 - mse: 0.0335 - val_loss: 0.2029 - val_mse: 0.0511\n",
            "Epoch 5/10\n",
            "116/116 [==============================] - 11s 95ms/step - loss: 0.1104 - mse: 0.0254 - val_loss: 0.1800 - val_mse: 0.0433\n",
            "Epoch 6/10\n",
            "116/116 [==============================] - 11s 92ms/step - loss: 0.1076 - mse: 0.0243 - val_loss: 0.1721 - val_mse: 0.0410\n",
            "Epoch 7/10\n",
            "116/116 [==============================] - 11s 92ms/step - loss: 0.1047 - mse: 0.0236 - val_loss: 0.1658 - val_mse: 0.0400\n",
            "Epoch 8/10\n",
            "116/116 [==============================] - 11s 92ms/step - loss: 0.1017 - mse: 0.0230 - val_loss: 0.1632 - val_mse: 0.0401\n",
            "Epoch 9/10\n",
            "116/116 [==============================] - 11s 93ms/step - loss: 0.1073 - mse: 0.0243 - val_loss: 0.1582 - val_mse: 0.0376\n",
            "Epoch 10/10\n",
            "116/116 [==============================] - 11s 93ms/step - loss: 0.1027 - mse: 0.0232 - val_loss: 0.1584 - val_mse: 0.0371\n"
          ],
          "name": "stdout"
        }
      ]
    },
    {
      "cell_type": "code",
      "metadata": {
        "id": "rBrGh4s7acrI",
        "colab": {
          "base_uri": "https://localhost:8080/",
          "height": 339
        },
        "outputId": "22b6a405-7fc1-4e4f-8832-ab5911943797"
      },
      "source": [
        "# 학습 과정 살펴보기 / watching train loss\n",
        "print(history.history['loss'])\n",
        "fig, loss_ax = plt.subplots()\n",
        "acc_ax = loss_ax.twinx()\n",
        "loss_ax.plot(history.history['loss'], 'r', label='train loss')\n",
        "loss_ax.plot(history.history['val_loss'], 'b', label='train validation loss')\n",
        "loss_ax.set_xlabel('epoch')\n",
        "loss_ax.set_ylabel('loss')\n",
        "loss_ax.legend(loc='upper left')\n",
        "acc_ax.legend(loc='lower left')\n",
        "plt.show()"
      ],
      "execution_count": 17,
      "outputs": [
        {
          "output_type": "stream",
          "text": [
            "No handles with labels found to put in legend.\n"
          ],
          "name": "stderr"
        },
        {
          "output_type": "stream",
          "text": [
            "[0.38770946860313416, 0.3457745909690857, 0.2222144454717636, 0.13017402589321136, 0.11553417146205902, 0.10887174308300018, 0.10654713958501816, 0.10315315425395966, 0.10282257944345474, 0.10088760405778885]\n"
          ],
          "name": "stdout"
        },
        {
          "output_type": "display_data",
          "data": {
            "image/png": "[encoded data removed]",
            "text/plain": [
              "<Figure size 432x288 with 2 Axes>"
            ]
          },
          "metadata": {
            "tags": [],
            "needs_background": "light"
          }
        }
      ]
    },
    {
      "cell_type": "code",
      "metadata": {
        "id": "fugf80JCojBe",
        "colab": {
          "base_uri": "https://localhost:8080/"
        },
        "outputId": "5c960abc-ea6f-4e42-f47c-984241c255e1"
      },
      "source": [
        "model.evaluate(testX, testY)"
      ],
      "execution_count": 18,
      "outputs": [
        {
          "output_type": "stream",
          "text": [
            "172/172 [==============================] - 3s 15ms/step - loss: 0.1512 - mse: 0.0373\n"
          ],
          "name": "stdout"
        },
        {
          "output_type": "execute_result",
          "data": {
            "text/plain": [
              "[0.15118150413036346, 0.03730307146906853]"
            ]
          },
          "metadata": {
            "tags": []
          },
          "execution_count": 18
        }
      ]
    },
    {
      "cell_type": "code",
      "metadata": {
        "id": "HqMUBYG08pu8"
      },
      "source": [
        "# 예측\r\n",
        "pred = model.predict(testX)"
      ],
      "execution_count": 19,
      "outputs": []
    },
    {
      "cell_type": "code",
      "metadata": {
        "id": "WrhsOlXN8rJq",
        "colab": {
          "base_uri": "https://localhost:8080/",
          "height": 537
        },
        "outputId": "af01b125-8a68-477b-c406-a3b66f2257e5"
      },
      "source": [
        "plt.figure(figsize=(12, 9))\r\n",
        "plt.plot(testY[:,0], label='actual')\r\n",
        "plt.plot(pred[:,0], label='prediction')\r\n",
        "\r\n",
        "plt.legend()\r\n",
        "#plt.xlim(300,500)\r\n",
        "# plt.ylim(-0.1, 1.1)\r\n",
        "plt.show()"
      ],
      "execution_count": 25,
      "outputs": [
        {
          "output_type": "display_data",
          "data": {
            "image/png": "[encoded data removed]",
            "text/plain": [
              "<Figure size 864x648 with 1 Axes>"
            ]
          },
          "metadata": {
            "tags": [],
            "needs_background": "light"
          }
        }
      ]
    },
    {
      "cell_type": "code",
      "metadata": {
        "id": "lVDv7-BqHI6m",
        "colab": {
          "base_uri": "https://localhost:8080/"
        },
        "outputId": "d56c55ec-797d-4e15-ad62-187507566cb9"
      },
      "source": [
        "1# def MAPE(y_true, y_pred): \n",
        "#     return np.abs((y_true - y_pred) / y_true) * 100\n",
        "\n",
        "# plt.figure(figsize = (25,10))\n",
        "# for i in range(0,12):\n",
        "#     PRE = MAPE(testY[i:i+predict_length], pred[i:i+predict_length])\n",
        "#     plt.plot(testX[i,:,-2], 'r', label='actual')\n",
        "#     plt.plot(28,testY[i], 'gs', label='target')\n",
        "#     plt.plot(28,test_predict[i], 'bo', label='pred')\n",
        "#     plt.title('PRE = {}'.format(PRE))\n",
        "#     plt.legend()"
      ],
      "execution_count": 21,
      "outputs": [
        {
          "output_type": "execute_result",
          "data": {
            "text/plain": [
              "1"
            ]
          },
          "metadata": {
            "tags": []
          },
          "execution_count": 21
        }
      ]
    }
  ]
}